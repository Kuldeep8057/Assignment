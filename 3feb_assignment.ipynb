{
 "cells": [
  {
   "attachments": {},
   "cell_type": "markdown",
   "id": "354e5d65",
   "metadata": {},
   "source": [
    "ANSWER 1."
   ]
  },
  {
   "cell_type": "code",
   "execution_count": 79,
   "id": "f0598f58",
   "metadata": {},
   "outputs": [
    {
     "name": "stdout",
     "output_type": "stream",
     "text": [
      "The 'def' keyword is used to create a function.\n",
      "\n",
      "\n",
      "[1, 3, 5, 7, 9, 11, 13, 15, 17, 19, 21, 23, 25]\n"
     ]
    }
   ],
   "source": [
    "print(\"The 'def' keyword is used to create a function.\")\n",
    "print(\"\\n\")\n",
    "#odd number 1 to 25\n",
    "start=1\n",
    "end=25\n",
    "odd_number=[]\n",
    "for i in range(start,end+1):\n",
    "    if i%2!=0:\n",
    "        odd_number.append(i)\n",
    "print(odd_number)        "
   ]
  },
  {
   "cell_type": "code",
   "execution_count": 9,
   "id": "95aa376d",
   "metadata": {},
   "outputs": [
    {
     "name": "stdout",
     "output_type": "stream",
     "text": [
      "[1, 2, 3, 4, 5, 6, 7, 8, 9, 10, 11, 12, 13, 14, 15, 16, 17, 18, 19, 20, 21, 22, 23, 24, 25]\n",
      "\n",
      "\n",
      "[1, 3, 5, 7, 9, 11, 13, 15, 17, 19, 21, 23, 25]\n"
     ]
    }
   ],
   "source": [
    "#2nd way of print odd number\n",
    "l=range(1,26)\n",
    "odd=[]\n",
    "for i in l:\n",
    "    odd.append(i)\n",
    "print(odd)\n",
    "print(\"\\n\")    \n",
    "odd_number=list(filter(lambda x:x%2!=0,odd))\n",
    "print(odd_number)"
   ]
  },
  {
   "attachments": {},
   "cell_type": "markdown",
   "id": "35e14700",
   "metadata": {},
   "source": [
    "ANSWER 2."
   ]
  },
  {
   "cell_type": "code",
   "execution_count": 18,
   "id": "a822fff1",
   "metadata": {},
   "outputs": [
    {
     "name": "stdout",
     "output_type": "stream",
     "text": [
      "We use *args and **kwargs as an argument when we are unsure about the number of arguments to pass in the functions\n",
      "\n",
      "\n",
      "Hello\n",
      "Sir\n",
      "i\n",
      "am\n",
      "Kuldeep\n",
      "Gangwar\n"
     ]
    }
   ],
   "source": [
    "#()\"We use *args and **kwargs as an argument when we are unsure about the number of arguments to pass in the functions\")\n",
    "print(\"\\n\")\n",
    "#1st programm \n",
    "def intro(*gagw):\n",
    "    for arg in gagw:\n",
    "        print(arg)\n",
    "intro('Hello','Sir','i', 'am', 'Kuldeep', 'Gangwar',)"
   ]
  },
  {
   "cell_type": "code",
   "execution_count": 19,
   "id": "87e4ff80",
   "metadata": {},
   "outputs": [
    {
     "name": "stdout",
     "output_type": "stream",
     "text": [
      "arg1: data\n",
      "arg2: science\n",
      "arg3: pro\n"
     ]
    }
   ],
   "source": [
    "#2st programm \n",
    "def show(arg1,arg2,arg3):\n",
    "    print(\"arg1:\",arg1)\n",
    "    print(\"arg2:\",arg2)\n",
    "    print(\"arg3:\",arg3)\n",
    "args=('data','science','pro')    \n",
    "show(*args)\n"
   ]
  },
  {
   "cell_type": "code",
   "execution_count": 24,
   "id": "261469d6",
   "metadata": {},
   "outputs": [
    {
     "name": "stdout",
     "output_type": "stream",
     "text": [
      "first == I'm\n",
      "mid == Kuldeep\n",
      "last == Gangwar\n"
     ]
    }
   ],
   "source": [
    "#1st programm of kewargs\n",
    "def name(**kwargs):\n",
    "    for key, value in kwargs.items():\n",
    "        print(\"%s == %s\" % (key, value))\n",
    "name(first=\"I'm\", mid='Kuldeep', last='Gangwar')"
   ]
  },
  {
   "cell_type": "code",
   "execution_count": 1,
   "id": "81d88091",
   "metadata": {},
   "outputs": [
    {
     "name": "stdout",
     "output_type": "stream",
     "text": [
      "first == Geeks\n",
      "mid == for\n",
      "last == Geeks\n"
     ]
    }
   ],
   "source": [
    "#2st programm of kewargs\n",
    "def myFun(**kwargs):\n",
    "    for key, value in kwargs.items():\n",
    "        print(\"%s == %s\" % (key, value))\n",
    "# Driver code\n",
    "myFun(first='Geeks', mid='for', last='Geeks')"
   ]
  },
  {
   "attachments": {},
   "cell_type": "markdown",
   "id": "9b4fac62",
   "metadata": {},
   "source": [
    "ANSWER 3."
   ]
  },
  {
   "cell_type": "code",
   "execution_count": null,
   "id": "3d0ac404",
   "metadata": {},
   "outputs": [],
   "source": [
    "'''An iterator is an object that contains a countable number of values. \n",
    "An iterator is an object that can be iterated upon, meaning that you can traverse through all the values. \n",
    "Technically, in Python, \n",
    "an iterator is an object which implements the iterator protocol, which consist of the methods __iter__() and __next__() .'''"
   ]
  },
  {
   "cell_type": "code",
   "execution_count": null,
   "id": "e33b2529",
   "metadata": {},
   "outputs": [],
   "source": [
    "'''The iterator object is initialized using the iter() method. It uses the next() method for iteration'''"
   ]
  },
  {
   "cell_type": "code",
   "execution_count": 5,
   "id": "7cac51a9",
   "metadata": {},
   "outputs": [
    {
     "name": "stdout",
     "output_type": "stream",
     "text": [
      "2\n",
      "4\n",
      "6\n",
      "8\n",
      "10\n"
     ]
    }
   ],
   "source": [
    "import itertools\n",
    "n = 5\n",
    "mylist = [2, 4, 6, 8, 10, 12, 14, 16, 18, 20]\n",
    "for item in itertools.islice(mylist, n):\n",
    "    print(item)"
   ]
  },
  {
   "attachments": {},
   "cell_type": "markdown",
   "id": "7591ed9c",
   "metadata": {},
   "source": [
    "ANSWER 4."
   ]
  },
  {
   "cell_type": "code",
   "execution_count": null,
   "id": "c2ec12c1",
   "metadata": {},
   "outputs": [],
   "source": [
    "'''Python Generator functions allow you to declare a function that behaves likes an iterator, allowing programmers to make an iterator in a fast, easy, and clean way.\n",
    "An iterator is an object that can be iterated or looped upon. \n",
    "It is used to abstract a container of data to make it behave like an iterable object.'''"
   ]
  },
  {
   "cell_type": "code",
   "execution_count": null,
   "id": "104c010e",
   "metadata": {},
   "outputs": [],
   "source": [
    "'''yield keyword is used to create a generator function. A type of function that is memory efficient and can be used like an iterator object. \n",
    "the yield keyword will turn any expression that is given with it into a generator object and return it to the caller.'''"
   ]
  },
  {
   "cell_type": "code",
   "execution_count": null,
   "id": "217df94e",
   "metadata": {},
   "outputs": [],
   "source": []
  },
  {
   "attachments": {},
   "cell_type": "markdown",
   "id": "73e61485",
   "metadata": {},
   "source": [
    "ANSWER 5."
   ]
  },
  {
   "cell_type": "code",
   "execution_count": 84,
   "id": "76e76d1f",
   "metadata": {},
   "outputs": [
    {
     "name": "stdout",
     "output_type": "stream",
     "text": [
      "2 3 5 7 11 13 17 19 23 29 31 37 41 43 47 53 59 61 67 71 "
     ]
    }
   ],
   "source": [
    "def isprime(num):\n",
    "    #num=1000\n",
    "    for i in range(2,num):\n",
    "        if num%i==0:\n",
    "            return False\n",
    "    return True        \n",
    "def primegen(n):\n",
    "    num=2\n",
    "    while n:\n",
    "        if isprime(num):\n",
    "            yield num\n",
    "            n-=1\n",
    "        num+=1\n",
    "    return   \n",
    "k=primegen(20)\n",
    "for i in k:\n",
    "    print(i,end=\" \")\n",
    "\n"
   ]
  },
  {
   "attachments": {},
   "cell_type": "markdown",
   "id": "1eff927f",
   "metadata": {},
   "source": [
    "ANSWER 6."
   ]
  },
  {
   "cell_type": "code",
   "execution_count": 1,
   "id": "3e547140",
   "metadata": {},
   "outputs": [
    {
     "name": "stdout",
     "output_type": "stream",
     "text": [
      "0\n",
      "1\n",
      "1\n",
      "2\n",
      "3\n",
      "5\n",
      "8\n",
      "13\n",
      "21\n",
      "34\n"
     ]
    }
   ],
   "source": [
    "number = int(input(\"enter the number of element you are looking for \"))\n",
    "a , b  = 0 , 1 \n",
    "counter = 0 \n",
    "while counter < number : \n",
    "    print(a)\n",
    "    c = a+ b\n",
    "    a = b \n",
    "    b = c \n",
    "    counter= counter+ 1\n"
   ]
  },
  {
   "attachments": {},
   "cell_type": "markdown",
   "id": "c4344777",
   "metadata": {},
   "source": [
    "ANSWER 7."
   ]
  },
  {
   "cell_type": "code",
   "execution_count": 27,
   "id": "d3ffe084",
   "metadata": {},
   "outputs": [
    {
     "name": "stdout",
     "output_type": "stream",
     "text": [
      "['p', 'w', 's', 'k', 'i', 'l', 'l', 's']\n"
     ]
    }
   ],
   "source": [
    "p = []\n",
    "\n",
    "for letter in 'pwskills':\n",
    "    p.append(letter)\n",
    "\n",
    "print(p)"
   ]
  },
  {
   "attachments": {},
   "cell_type": "markdown",
   "id": "d9d49891",
   "metadata": {},
   "source": [
    "ANSWER 8."
   ]
  },
  {
   "cell_type": "code",
   "execution_count": 16,
   "id": "6213f072",
   "metadata": {},
   "outputs": [
    {
     "name": "stdout",
     "output_type": "stream",
     "text": [
      "Not a palindrome!\n"
     ]
    }
   ],
   "source": [
    "num=int(input(\"Enter any number:\"))\n",
    "temp=num\n",
    "rev=0\n",
    "while(num>0):\n",
    "    dig=num%10\n",
    "    rev=rev*10+dig\n",
    "    num=num//10\n",
    "if(temp==rev):\n",
    "    print(\"The {0} number is palindrome!\".format(temp))\n",
    "else:\n",
    "    print(\"Not a palindrome!\") "
   ]
  },
  {
   "attachments": {},
   "cell_type": "markdown",
   "id": "be2b1019",
   "metadata": {},
   "source": [
    "ANSWER 9."
   ]
  },
  {
   "cell_type": "code",
   "execution_count": 25,
   "id": "1900eac9",
   "metadata": {},
   "outputs": [
    {
     "name": "stdout",
     "output_type": "stream",
     "text": [
      "[1, 3, 5, 7, 9, 11, 13, 15, 17, 19, 21, 23, 25, 27, 29, 31, 33, 35, 37, 39, 41, 43, 45, 47, 49, 51, 53, 55, 57, 59, 61, 63, 65, 67, 69, 71, 73, 75, 77, 79, 81, 83, 85, 87, 89, 91, 93, 95, 97, 99]\n"
     ]
    }
   ],
   "source": [
    "list1 = range(1,101)\n",
    "only_odd = [num for num in list1 if num % 2 == 1]\n",
    "print(only_odd)"
   ]
  }
 ],
 "metadata": {
  "kernelspec": {
   "display_name": "Python 3",
   "language": "python",
   "name": "python3"
  },
  "language_info": {
   "codemirror_mode": {
    "name": "ipython",
    "version": 3
   },
   "file_extension": ".py",
   "mimetype": "text/x-python",
   "name": "python",
   "nbconvert_exporter": "python",
   "pygments_lexer": "ipython3",
   "version": "3.10.4"
  },
  "vscode": {
   "interpreter": {
    "hash": "be4ba2eea7440f0872637eafd588a6df8252e11914db5e4bfba0297ba1a11246"
   }
  }
 },
 "nbformat": 4,
 "nbformat_minor": 5
}
