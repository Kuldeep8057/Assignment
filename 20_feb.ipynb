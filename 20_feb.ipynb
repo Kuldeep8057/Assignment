{
 "cells": [
  {
   "attachments": {},
   "cell_type": "markdown",
   "id": "e3162898",
   "metadata": {},
   "source": [
    "Q1. Explain GET and POST methods.\n"
   ]
  },
  {
   "cell_type": "code",
   "execution_count": null,
   "id": "73f7f7bd",
   "metadata": {},
   "outputs": [],
   "source": [
    "#GET\n",
    "\n",
    "'''In GET method we can not send large amount of data rather limited data is sent because the request parameter is appended into the URL. \t\n",
    "GET request is comparatively better than Post so it is used more than the\n",
    "GET request is comparatively less secure because the data is exposed in the URL bar.\t\n",
    "Request made through GET method are stored in Browser history.\t\n",
    "GET method request can be saved as bookmark in browser.\t\n",
    "Request made through GET method are stored in cache memory of Browser. \n",
    "Data passed through GET method can be easily stolen by attackers.\n",
    "In GET method only ASCII characters are allowed.'''\n",
    "\n",
    "\n",
    "\n",
    "\n",
    "\n",
    "\n",
    "#POST\n",
    "    '''In POST method large amount of data can be sent because the request parameter is appended into the body.\n",
    "    POST request is comparatively less better than Get so it is used less than the Get request.\n",
    "    POST request is comparatively more secure because the data is not exposed in the URL bar.\n",
    "    Request made through POST method is not stored in Browser history.\n",
    "    POST method request can not be saved as bookmark in browser.\n",
    "\tRequest made through POST method are not stored in cache memory of Browser.\n",
    "\tData passed through POST method can not be easily stolen by attackers.\n",
    "\tIn POST method all types of data is allowed.'''"
   ]
  },
  {
   "attachments": {},
   "cell_type": "markdown",
   "id": "b914cea8",
   "metadata": {},
   "source": [
    "Q2. Why is request used in Flask?\n",
    "\n"
   ]
  },
  {
   "cell_type": "code",
   "execution_count": null,
   "id": "457ce420",
   "metadata": {},
   "outputs": [],
   "source": [
    "'''Request is used in Flask to handle incoming HTTP requests from clients and to provide access to the data sent in those requests.'''"
   ]
  },
  {
   "attachments": {},
   "cell_type": "markdown",
   "id": "285b89bd",
   "metadata": {},
   "source": [
    "Q3. Why is redirect() used in Flask?\n"
   ]
  },
  {
   "cell_type": "code",
   "execution_count": null,
   "id": "f8b8b73a",
   "metadata": {},
   "outputs": [],
   "source": [
    "'''A redirect is used in the Flask class to send the user to a particular URL with the status code. conversely, \n",
    "this status code additionally identifies the issue. When we access a website, our browser sends a request to the server, \n",
    "and the server replies with what is known as the HTTP status code, which is a three-digit number.'''"
   ]
  },
  {
   "attachments": {},
   "cell_type": "markdown",
   "id": "71255136",
   "metadata": {},
   "source": [
    "Q4. What are templates in Flask? Why is the render_template() function used?"
   ]
  },
  {
   "cell_type": "code",
   "execution_count": null,
   "id": "46c51e5a",
   "metadata": {},
   "outputs": [],
   "source": [
    "'''Templates are files that contain static data as well as placeholders for dynamic data.\n",
    "A template is rendered with specific data to produce a final document. Flask uses the Jinja template library to render templates.\n",
    "In your application, you will use templates to render HTML which will display in the user’s browser.'''\n",
    "\n",
    "\n",
    "\n",
    "'''Flask is a backend web framework based on the Python programming language.\n",
    "It basically allows creating web applications in a Pythonic syntax and concepts.\n",
    "With Flask, we can use Python libraries and tools in our web applications. \n",
    "Using Flask we can set up a webserver to load up some basic HTML templates along with Jinja2 templating syntax. In this article,\n",
    "we will see how we can render the HTML templates in Flask.'''"
   ]
  },
  {
   "attachments": {},
   "cell_type": "markdown",
   "id": "9b589f0c",
   "metadata": {},
   "source": [
    "Q5. Create a simple API. Use Postman to test it. Attach the screenshot of the output in the Jupyter Notebook."
   ]
  },
  {
   "cell_type": "code",
   "execution_count": null,
   "id": "ee9abf50",
   "metadata": {},
   "outputs": [],
   "source": []
  },
  {
   "cell_type": "markdown",
   "id": "20ad64d3",
   "metadata": {},
   "source": []
  }
 ],
 "metadata": {
  "language_info": {
   "name": "python"
  }
 },
 "nbformat": 4,
 "nbformat_minor": 5
}
