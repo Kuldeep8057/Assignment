{
 "cells": [
  {
   "attachments": {},
   "cell_type": "markdown",
   "id": "2f5207d6",
   "metadata": {},
   "source": [
    "Answer 1."
   ]
  },
  {
   "cell_type": "code",
   "execution_count": null,
   "id": "5386d7e2-77ed-417a-8039-2033c6cdd2ad",
   "metadata": {},
   "outputs": [],
   "source": [
    "#SQL\t\n",
    "''' RELATIONAL DATABASE MANAGEMENT SYSTEM (RDBMS)\t\n",
    "    These dThese databases are not suited for hierarchical data storage.\n",
    "    These databases are best suited for complex queries\n",
    "    Vertically Scalable\n",
    "    Follows ACID property\n",
    "    Examples: MySQL, PostgreSQL, Oracle, MS-SQL Server, etc'''\n",
    "\n",
    "#NoSQL\n",
    "'''Non-relational or distributed database system.\n",
    "\tThey have a dynamic schema\n",
    "\tThese databases are best suited for hierarchical data storage.\n",
    "\tThese databases are not so good for complex queries\n",
    "\tHorizontally scalable\n",
    "\tFollows CAP(consistency, availability, partition tolerance)\n",
    "\tExamples: MongoDB, GraphQL, HBase, Neo4j, Cassandra, etc'''"
   ]
  },
  {
   "attachments": {},
   "cell_type": "markdown",
   "id": "1a55b472",
   "metadata": {},
   "source": [
    "Answer 2."
   ]
  },
  {
   "cell_type": "code",
   "execution_count": null,
   "id": "5c953cd9",
   "metadata": {},
   "outputs": [],
   "source": [
    "'''Data Definition Language(DDL) is a subset of SQL and a part of Database Management System(DBMS).\n",
    "DDL consist of Commands to commands like CREATE, ALTER, TRUNCATE and DROP. \n",
    "These commands are used to create or modify the tables in SQL.'''\n",
    "\n",
    "                                                        ##COMMAND\n",
    "#CREATE :\n",
    "'''This command is used to create a new table in SQL. The user has to give information like table name, column names, and their datatypes.\n",
    "Example:-\n",
    "        We need to create a table for storing Student information of a particular College. Create syntax would be as below.\n",
    "\n",
    "        CREATE TABLE Student_info\n",
    "        (\n",
    "        College_Id number(2),\n",
    "        College_name varchar(30),\n",
    "        Branch varchar(10)\n",
    "        );'''\n",
    "\n",
    "#ALTER :\n",
    "'''This command is used to add, delete or change columns in the existing table. \n",
    "The user needs to know the existing table name and can do add, delete or modify tasks easily.\n",
    "\n",
    "Example –\n",
    "    In our Student_info table, we want to add a new column for CGPA. The syntax would be as below as follows.\n",
    "\n",
    "        ALTER TABLE Student_info\n",
    "        ADD CGPA number;'''\n",
    "\n",
    "#TRUNCATE :\n",
    "''' This command is used to remove all rows from the table, but the structure of the table still exists.\n",
    "\n",
    "Example –\n",
    "    The College Authority wants to remove the details of all students for new batches but wants to keep the table structure. The command they can use is as follows.\n",
    "\n",
    "            TRUNCATE TABLE Student_info;'''\n",
    "\n",
    "#DROP :\n",
    "'''This command is used to remove an existing table along with its structure from the Database.\n",
    "\n",
    "Example –\n",
    "    If the College Authority wants to change their Database by deleting the Student_info Table. \n",
    "\n",
    "        DROP TABLE Student_info;'''"
   ]
  },
  {
   "attachments": {},
   "cell_type": "markdown",
   "id": "5182db7a",
   "metadata": {},
   "source": [
    "Answer 3."
   ]
  },
  {
   "cell_type": "code",
   "execution_count": null,
   "id": "d094d473",
   "metadata": {},
   "outputs": [],
   "source": [
    "\n",
    "#DML(Data Manipulation language)\n",
    "'''The structured query language commands deal with the manipulation of data present in the database that belongs to the DML or Data Manipulation Language.\n",
    "This includes most of the SQL statements.'''\n",
    "\n",
    "                                                        #COMMAND\n",
    "\n",
    "#INSERT\n",
    "'''Insert command is used to insert data into a table.\n",
    "\n",
    "Syntax\n",
    "\n",
    "Insert into <table_name> (column list) values (column values);\n",
    "Example, if we want to insert multiple rows to the Employee table, we can use the following command −\n",
    "\n",
    "    Insert into Employee(Emp_id, Emp_name) values (001, “ bhanu”);\n",
    "    Insert into Employee(Emp_id, Emp_name) values (002, “ hari”);\n",
    "    Insert into Employee(Emp_id, Emp_name) values (003, “ bob”);'''\n",
    "\n",
    "#DELETE\n",
    "'''Delete command is used to delete records from a database table.\n",
    "\n",
    "Syntax\n",
    "    Delete from <table_name>WHERE condition;\n",
    "\n",
    "Example: if we want to delete an entire row of employee id 002, we can use the following command −\n",
    "\n",
    "    DELETE from Employee WHERE Emp_id=002;'''\n",
    "\n",
    "#UPDATE\n",
    "'''Update command is used to update existing data within a table.\n",
    "\n",
    "Syntax\n",
    "    UPDATE <table_name> SET column_number =value_number WHERE condition;\n",
    "\n",
    "Example: if we want to update the name of the employee having the employee id 001, we can use the command given below −\n",
    "\n",
    "    UPDATE Employee SET Emp_name= Ram WHERE Emp_id= 001;'''\n"
   ]
  },
  {
   "attachments": {},
   "cell_type": "markdown",
   "id": "73e472ea",
   "metadata": {},
   "source": [
    "Answer 4."
   ]
  },
  {
   "cell_type": "code",
   "execution_count": null,
   "id": "d9beb0bb",
   "metadata": {},
   "outputs": [],
   "source": [
    "#DQL(Data Query Language)\n",
    "'''DQL statements are used for performing queries on the data within schema objects.\n",
    "    The purpose of DQL commands is to get the schema relation based on the query passed to it.'''\n",
    "#SELECT Syntax\n",
    "'''SELECT column1, column2, ...\n",
    "    FROM table_name;\n",
    "    Here, column1, column2, ... are the field names of the table you want to select data from.\n",
    "    If you want to select all the fields available in the table, use the following syntax:\n",
    "\n",
    "    SELECT * FROM table_name;'''"
   ]
  },
  {
   "attachments": {},
   "cell_type": "markdown",
   "id": "38fca920",
   "metadata": {},
   "source": [
    "Answer 5."
   ]
  },
  {
   "cell_type": "code",
   "execution_count": null,
   "id": "6c2e356b",
   "metadata": {},
   "outputs": [],
   "source": [
    "#Primary Key\n",
    "'''A primary key generally focuses on the uniqueness of the table. It assures the value in the specific column is unique. '''\n",
    "\n",
    "#Foreign key:\n",
    "'''A foreign key is generally used to build a relationship between the two tables. The table allows only one primary key.'''"
   ]
  },
  {
   "attachments": {},
   "cell_type": "markdown",
   "id": "605f45dd",
   "metadata": {},
   "source": [
    "Answer 6."
   ]
  },
  {
   "cell_type": "code",
   "execution_count": null,
   "id": "93a9b370",
   "metadata": {},
   "outputs": [],
   "source": [
    "! pip install mysql-connector-python\n",
    "\n",
    "import mysql.connector\n",
    "\n",
    "# Establishing the connection\n",
    "connection = mysql.connector.connect(\n",
    "    host=\"localhost\",\n",
    "    user=\"your_username\",\n",
    "    password=\"your_password\",\n",
    "    database=\"your_database\"\n",
    ")\n",
    "\n",
    "# Creating a cursor object using the cursor() method\n",
    "cursor = connection.cursor()\n",
    "\n",
    "# Executing an SQL query using the execute() method\n",
    "cursor.execute(\"SELECT * FROM your_table\")\n",
    "\n",
    "# Fetching data from the cursor using fetchall() method\n",
    "data = cursor.fetchall()\n",
    "\n",
    "# Iterating over the data\n",
    "for row in data:\n",
    "    print(row)\n",
    "\n",
    "# Closing the cursor\n",
    "cursor.close()\n",
    "\n",
    "# Closing the connection\n",
    "connection.close()\n",
    "\n",
    "#cursor(): \n",
    "'''The cursor() method is used to create a cursor object. \n",
    "The cursor object allows you to execute SQL queries and fetch the results. \n",
    "It acts as a control structure that helps in executing SQL statements and managing the result sets. \n",
    "The cursor object is obtained from the connection object.'''\n",
    "\n",
    "#execute():\n",
    "'''The execute() method is used to execute an SQL query. \n",
    "You pass the SQL query as a string parameter to this method. \n",
    "The executed query can be a Data Manipulation Language (DML) statement like SELECT, INSERT, UPDATE, or DELETE. The method returns the number of affected rows. \n",
    "In the example above, we execute a SELECT query to retrieve data from the table.'''\n"
   ]
  },
  {
   "attachments": {},
   "cell_type": "markdown",
   "id": "6909bbd9",
   "metadata": {},
   "source": [
    "Answer 7."
   ]
  },
  {
   "cell_type": "code",
   "execution_count": null,
   "id": "e7bfe9cd",
   "metadata": {},
   "outputs": [],
   "source": [
    "#FROM: \n",
    "'''The FROM clause specifies the tables from which the data will be retrieved. \n",
    "    It is the first clause to be executed, and it identifies the tables involved in the query.'''\n",
    "\n",
    "#JOIN: \n",
    "'''If the query involves joining multiple tables, the JOIN clause is executed next. \n",
    "It specifies how the tables should be linked based on the specified join conditions.'''\n",
    "\n",
    "#WHERE: \n",
    "'''The WHERE clause is used to filter the rows based on specific conditions. \n",
    "It is executed after the FROM and JOIN clauses and before the GROUP BY clause (if present). \n",
    "It narrows down the result set by applying the specified conditions.'''\n",
    "\n",
    "#GROUP BY:\n",
    "'''' The GROUP BY clause is used to group the rows based on one or more columns.\n",
    " It is executed after the WHERE clause and before the HAVING clause (if present). \n",
    " It combines rows with the same values in the specified columns into groups.'''\n",
    "\n",
    "#HAVING: \n",
    "'''The HAVING clause is similar to the WHERE clause but is used with grouped data. \n",
    "It filters the grouped rows based on conditions. It is executed after the GROUP BY clause and before the SELECT clause.'''\n",
    "\n",
    "#SELECT: \n",
    "'''The SELECT clause is used to specify the columns to retrieve from the tables. \n",
    "It is executed after the previous clauses and retrieves the requested columns from the filtered and grouped rows.'''\n",
    "\n",
    "#DISTINCT: \n",
    "'''The DISTINCT keyword, if present, eliminates duplicate rows from the result set. It is executed after the SELECT clause.'''\n",
    "\n",
    "#ORDER BY: \n",
    "'''The ORDER BY clause is used to sort the result set based on one or more columns. It is executed after the SELECT and DISTINCT clauses.'''\n",
    "\n",
    "#LIMIT or OFFSET: \n",
    "'''The LIMIT clause is used to limit the number of rows returned by the query, while the OFFSET clause is used to skip a specified number of rows before returning the result set. \n",
    "These clauses are executed after all the previous clauses.'''"
   ]
  }
 ],
 "metadata": {
  "kernelspec": {
   "display_name": "Python 3 (ipykernel)",
   "language": "python",
   "name": "python3"
  },
  "language_info": {
   "codemirror_mode": {
    "name": "ipython",
    "version": 3
   },
   "file_extension": ".py",
   "mimetype": "text/x-python",
   "name": "python",
   "nbconvert_exporter": "python",
   "pygments_lexer": "ipython3",
   "version": "3.11.3"
  }
 },
 "nbformat": 4,
 "nbformat_minor": 5
}
