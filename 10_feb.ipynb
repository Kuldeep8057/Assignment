{
 "cells": [
  {
   "attachments": {},
   "cell_type": "markdown",
   "id": "1d3744d1",
   "metadata": {},
   "source": [
    "Answer 1"
   ]
  },
  {
   "cell_type": "code",
   "execution_count": 20,
   "id": "5386d7e2-77ed-417a-8039-2033c6cdd2ad",
   "metadata": {},
   "outputs": [
    {
     "data": {
      "text/plain": [
       "' r - open a file in read mode. \\n    w - opens or create a text file in write mode. \\n    a - opens a file in append mode.\\n    r+ - opens a file in both read and write mode.\\n    a+ - opens a file in both read and write mode.\\n    w+ - opens a file in both read and write mode.'"
      ]
     },
     "execution_count": 20,
     "metadata": {},
     "output_type": "execute_result"
    }
   ],
   "source": [
    "''' r - open a file in read mode. \n",
    "    w - opens or create a text file in write mode. \n",
    "    a - opens a file in append mode.\n",
    "    r+ - opens a file in both read and write mode.\n",
    "    a+ - opens a file in both read and write mode.\n",
    "    w+ - opens a file in both read and write mode.'''"
   ]
  },
  {
   "attachments": {},
   "cell_type": "markdown",
   "id": "aead6448",
   "metadata": {},
   "source": [
    "Answer 2"
   ]
  },
  {
   "cell_type": "code",
   "execution_count": 21,
   "id": "a338660c",
   "metadata": {},
   "outputs": [
    {
     "data": {
      "text/plain": [
       "'The close() method closes an open file. You should always close your files, in some cases,\\ndue to buffering, changes made to a file may not show until you close the file.'"
      ]
     },
     "execution_count": 21,
     "metadata": {},
     "output_type": "execute_result"
    }
   ],
   "source": [
    "'''The close() method closes an open file. You should always close your files, in some cases,\n",
    "due to buffering, changes made to a file may not show until you close the file.'''"
   ]
  },
  {
   "attachments": {},
   "cell_type": "markdown",
   "id": "6c2fbc56",
   "metadata": {},
   "source": [
    "Answer 3"
   ]
  },
  {
   "cell_type": "code",
   "execution_count": 29,
   "id": "006bf762",
   "metadata": {},
   "outputs": [],
   "source": [
    "file = open(\"my_file.txt\",\"w\")\n",
    "file.write('I want to become a Data Scientist.data science is most popular branch.')\n",
    "file.close()"
   ]
  },
  {
   "attachments": {},
   "cell_type": "markdown",
   "id": "be34dfaf",
   "metadata": {},
   "source": [
    "Answer 4"
   ]
  },
  {
   "cell_type": "code",
   "execution_count": 23,
   "id": "64a722eb",
   "metadata": {},
   "outputs": [],
   "source": [
    "'''read() - The read method reads the entire contents of a file and returns it as a string.\n",
    "readline() -The readline method reads a single line from a file and returns it as a string. This means that if you use readline,\n",
    "            you can read the contents of a file line by line,which can be useful for processing large files that do not fit in memory.\n",
    "readlines() -the readlines method reads the entire contents of a file and returns it as a list of strings, \n",
    "            where each element of the list is a single line of the file.'''\n",
    "\n",
    "\n",
    "\n",
    "file = open(\"my_file.txt\",\"r\")\n",
    "    "
   ]
  },
  {
   "cell_type": "code",
   "execution_count": 25,
   "id": "a6e171d0",
   "metadata": {},
   "outputs": [
    {
     "data": {
      "text/plain": [
       "''"
      ]
     },
     "execution_count": 25,
     "metadata": {},
     "output_type": "execute_result"
    }
   ],
   "source": [
    "file.readline(10)"
   ]
  },
  {
   "cell_type": "code",
   "execution_count": 26,
   "id": "a907dbda",
   "metadata": {},
   "outputs": [
    {
     "data": {
      "text/plain": [
       "[]"
      ]
     },
     "execution_count": 26,
     "metadata": {},
     "output_type": "execute_result"
    }
   ],
   "source": [
    "file.readlines()"
   ]
  },
  {
   "attachments": {},
   "cell_type": "markdown",
   "id": "8834644f",
   "metadata": {},
   "source": [
    "Answer 5"
   ]
  },
  {
   "cell_type": "code",
   "execution_count": 27,
   "id": "f0d5a400",
   "metadata": {},
   "outputs": [
    {
     "data": {
      "text/plain": [
       "'The advantage of using a with statement is that it is guaranteed to close the file no matter how the nested block exits.\\nIf an exception occurs before the end of the block, \\nit will close the file before the exception is caught by an outer exception handler'"
      ]
     },
     "execution_count": 27,
     "metadata": {},
     "output_type": "execute_result"
    }
   ],
   "source": [
    "'''The with statement works with the open() function to open a file. Unlike open() where you have to close the file with the close() method, \n",
    "the with statement closes the file for you without you telling it to. \n",
    "This is because the with statement calls 2 built-in methods behind the scene – __enter()__ and __exit()__ .'''\n",
    "\n",
    "'''The advantage of using a with statement is that it is guaranteed to close the file no matter how the nested block exits.\n",
    "If an exception occurs before the end of the block, \n",
    "it will close the file before the exception is caught by an outer exception handler'''"
   ]
  },
  {
   "attachments": {},
   "cell_type": "markdown",
   "id": "f69f80c2",
   "metadata": {},
   "source": [
    "Answer 6"
   ]
  },
  {
   "cell_type": "code",
   "execution_count": 33,
   "id": "e7e2eb18",
   "metadata": {},
   "outputs": [
    {
     "name": "stdout",
     "output_type": "stream",
     "text": [
      "Data is written into the file.\n"
     ]
    }
   ],
   "source": [
    "'''write - The write() function will write the content in the file without adding any extra characters.\n",
    "    writelines - This function writes the content of a list to a file.'''\n",
    "file = open(\"my_file1.txt\",\"w\")\n",
    "file.write('Big Datas exciting and informative narrative is key to improved revenue streams and business capability. Data Scientists use a judicious mix of statistical, computer science, and analytical skills to help companies navigate this increasingly complex world of data overload and promote their business')\n",
    "file.close()\n",
    "\n",
    "file = open(\"my_file1.txt\",\"w\")\n",
    "for i in range(3):\n",
    "    name = input(\"Enter the name of the employee: \")\n",
    "    file.write(name)\n",
    "    file.write(\"\\n\")\n",
    "\n",
    "file.close()\n",
    "\n",
    "print(\"Data is written into the file.\")"
   ]
  }
 ],
 "metadata": {
  "kernelspec": {
   "display_name": "Python 3 (ipykernel)",
   "language": "python",
   "name": "python3"
  },
  "language_info": {
   "codemirror_mode": {
    "name": "ipython",
    "version": 3
   },
   "file_extension": ".py",
   "mimetype": "text/x-python",
   "name": "python",
   "nbconvert_exporter": "python",
   "pygments_lexer": "ipython3",
   "version": "3.10.4"
  }
 },
 "nbformat": 4,
 "nbformat_minor": 5
}
