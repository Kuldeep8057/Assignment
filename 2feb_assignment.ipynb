{
 "cells": [
  {
   "attachments": {},
   "cell_type": "markdown",
   "id": "212d07ab",
   "metadata": {},
   "source": [
    "ANSWER 1."
   ]
  },
  {
   "cell_type": "code",
   "execution_count": null,
   "id": "935a8524",
   "metadata": {},
   "outputs": [],
   "source": [
    "#For loop: A for loop is a control flow statement that executes code repeatedly for a particular number of iterations.\n",
    "#In this control flow statement, the keyword used is for. \n",
    "#The for loop is used when the number of iterations is already known.\n",
    "\n",
    "#syntax of for loop:\n",
    "value= [True, True] # Initialization\n",
    "for iterator_var in value: # Condition and Updation\n",
    "    \"statements\" # Body of loop"
   ]
  },
  {
   "cell_type": "code",
   "execution_count": null,
   "id": "fe3f997a",
   "metadata": {},
   "outputs": [],
   "source": [
    "#example of For Loop\n",
    "n = [1, 2, 3]  # Initialization\n",
    "for i in n:  # Condition and Updation\n",
    "    print(i)"
   ]
  },
  {
   "cell_type": "code",
   "execution_count": null,
   "id": "be7f5db9",
   "metadata": {},
   "outputs": [],
   "source": [
    "#While loop: A loop that executes a single statement or a group of statements for the given true condition. \n",
    "#The keyword used to represent this loop is while. \n",
    "#A while loop is used when the number of iterations is unknown. \n",
    "# The statement repeats itself till the boolean value becomes false. In a while loop, the condition is tested at the start, also known as the pre-test loop. \n",
    "#Let's see the flow of the while loop:\n",
    "\n",
    "#syntax of while loop\n",
    "i= True # Initialization\n",
    "while i: # Condition\n",
    "    \"statement\" # Body of loop\n"
   ]
  },
  {
   "cell_type": "code",
   "execution_count": null,
   "id": "c2d8ab3b",
   "metadata": {},
   "outputs": [],
   "source": [
    "#example of While Loop\n",
    "i = 1  # Initialization\n",
    "while i < 6:  # Condition\n",
    "    print(i)\n",
    "    i += 1  # Updation"
   ]
  },
  {
   "attachments": {},
   "cell_type": "markdown",
   "id": "82aa54c8",
   "metadata": {},
   "source": [
    "ANSWER 2."
   ]
  },
  {
   "cell_type": "code",
   "execution_count": 3,
   "id": "04f67656-c8a4-4a81-913f-f5214e3f2fbf",
   "metadata": {},
   "outputs": [
    {
     "name": "stdout",
     "output_type": "stream",
     "text": [
      "0 1 2 3 4 5 6 7 8 9 10 \n",
      "Sum of numbers : 55\n"
     ]
    }
   ],
   "source": [
    "n=int(input(\"enter the postive number\"))\n",
    "for i in range(n):\n",
    "    print(i,end=\" \")\n",
    "sum=0\n",
    "for i in range(n):\n",
    "    sum += i\n",
    "print(\"\\nSum of numbers :\", sum) \n",
    "\n"
   ]
  },
  {
   "cell_type": "code",
   "execution_count": 7,
   "id": "f7f0cdf6",
   "metadata": {},
   "outputs": [
    {
     "name": "stdout",
     "output_type": "stream",
     "text": [
      "55\n"
     ]
    }
   ],
   "source": [
    "#2nd method sum of natural number\n",
    "from functools import  reduce\n",
    "n=[1,2,3,4,5,6,7,8,9,10]\n",
    "\n",
    "sum=reduce(lambda x,y:x+y,n)\n",
    "print(sum)"
   ]
  },
  {
   "cell_type": "code",
   "execution_count": 19,
   "id": "b3273c14-cf73-421f-b424-8e7c2ad338a9",
   "metadata": {},
   "outputs": [
    {
     "name": "stdout",
     "output_type": "stream",
     "text": [
      "The result is 66\n"
     ]
    }
   ],
   "source": [
    "#sum of natural number from while\n",
    "num = int(input(\"Enter a postive number: \")) \n",
    "sum = 0\n",
    "while(num > 0):\n",
    "    sum += num\n",
    "    num -= 1\n",
    "print(\"The result is\", sum)"
   ]
  },
  {
   "attachments": {},
   "cell_type": "markdown",
   "id": "a578efe5",
   "metadata": {},
   "source": [
    "ANSWER 3."
   ]
  },
  {
   "cell_type": "code",
   "execution_count": 9,
   "id": "1d720815",
   "metadata": {},
   "outputs": [
    {
     "name": "stdout",
     "output_type": "stream",
     "text": [
      "Total Bill Unit: 2250\n"
     ]
    }
   ],
   "source": [
    "unit = int(input(\"Enter your unit: \"))\n",
    "if unit <= 100:\n",
    "    bill = unit * 4.5\n",
    "elif unit >= 101 and unit <= 200:\n",
    "    bill = 450 + ((unit - 100) *6)\n",
    "elif unit >= 201 and unit <= 300:\n",
    "    bill = 346 + 600 + ((unit - 200) * 10)\n",
    "else:\n",
    "    bill = 450 + 600 + 1000 + ((unit-300)  * 20)\n",
    "print(\"Total Bill Unit:\",bill)"
   ]
  },
  {
   "attachments": {},
   "cell_type": "markdown",
   "id": "619eb379",
   "metadata": {},
   "source": [
    "ANSWER 4."
   ]
  },
  {
   "cell_type": "code",
   "execution_count": 13,
   "id": "19d59f42",
   "metadata": {},
   "outputs": [
    {
     "name": "stdout",
     "output_type": "stream",
     "text": [
      "[1, 8, 27, 64, 125, 216, 343, 512, 729, 1000, 1331, 1728, 2197, 2744, 3375, 4096, 4913, 5832, 6859, 8000, 9261, 10648, 12167, 13824, 15625, 17576, 19683, 21952, 24389, 27000, 29791, 32768, 35937, 39304, 42875, 46656, 50653, 54872, 59319, 64000, 68921, 74088, 79507, 85184, 91125, 97336, 103823, 110592, 117649, 125000, 132651, 140608, 148877, 157464, 166375, 175616, 185193, 195112, 205379, 216000, 226981, 238328, 250047, 262144, 274625, 287496, 300763, 314432, 328509, 343000, 357911, 373248, 389017, 405224, 421875, 438976, 456533, 474552, 493039, 512000, 531441, 551368, 571787, 592704, 614125, 636056, 658503, 681472, 704969, 729000, 753571, 778688, 804357, 830584, 857375, 884736, 912673, 941192, 970299, 1000000]\n",
      "\n",
      "\n",
      "[8, 64, 125, 216, 512, 1000, 1728, 2744, 3375, 4096, 5832, 8000, 10648, 13824, 15625, 17576, 21952, 27000, 32768, 39304, 42875, 46656, 54872, 64000, 74088, 85184, 91125, 97336, 110592, 125000, 140608, 157464, 166375, 175616, 195112, 216000, 238328, 262144, 274625, 287496, 314432, 343000, 373248, 405224, 421875, 438976, 474552, 512000, 551368, 592704, 614125, 636056, 681472, 729000, 778688, 830584, 857375, 884736, 941192, 1000000]\n"
     ]
    }
   ],
   "source": [
    "#FOR LOOP\n",
    "l=list(range(1,101))\n",
    "cube=[]\n",
    "\n",
    "for i in l:\n",
    "    cube.append(i**3)\n",
    "print(cube)\n",
    "print(\"\\n\") \n",
    "l=list(filter(lambda x:x%4==0 or x%5==0,cube))\n",
    "print(l)"
   ]
  },
  {
   "cell_type": "code",
   "execution_count": 12,
   "id": "7a9e6e1d",
   "metadata": {},
   "outputs": [
    {
     "name": "stdout",
     "output_type": "stream",
     "text": [
      "[1, 8, 27, 64, 125, 216, 343, 512, 729, 1000, 1331, 1728, 2197, 2744, 3375, 4096, 4913, 5832, 6859, 8000, 9261, 10648, 12167, 13824, 15625, 17576, 19683, 21952, 24389, 27000, 29791, 32768, 35937, 39304, 42875, 46656, 50653, 54872, 59319, 64000, 68921, 74088, 79507, 85184, 91125, 97336, 103823, 110592, 117649, 125000, 132651, 140608, 148877, 157464, 166375, 175616, 185193, 195112, 205379, 216000, 226981, 238328, 250047, 262144, 274625, 287496, 300763, 314432, 328509, 343000, 357911, 373248, 389017, 405224, 421875, 438976, 456533, 474552, 493039, 512000, 531441, 551368, 571787, 592704, 614125, 636056, 658503, 681472, 704969, 729000, 753571, 778688, 804357, 830584, 857375, 884736, 912673, 941192, 970299, 1000000]\n",
      "\n",
      "\n",
      "[8, 64, 125, 216, 512, 1000, 1728, 2744, 3375, 4096, 5832, 8000, 10648, 13824, 15625, 17576, 21952, 27000, 32768, 39304, 42875, 46656, 54872, 64000, 74088, 85184, 91125, 97336, 110592, 125000, 140608, 157464, 166375, 175616, 195112, 216000, 238328, 262144, 274625, 287496, 314432, 343000, 373248, 405224, 421875, 438976, 474552, 512000, 551368, 592704, 614125, 636056, 681472, 729000, 778688, 830584, 857375, 884736, 941192, 1000000]\n"
     ]
    }
   ],
   "source": [
    "#while loop\n",
    "i=1\n",
    "cube=[]\n",
    "while i<=100:\n",
    "    cube.append(i*i*i)\n",
    "    i+=1\n",
    "print(cube)\n",
    "print(\"\\n\")\n",
    "l=list(filter(lambda x:x%4==0 or x%5==0,cube))    \n",
    "print(l)"
   ]
  },
  {
   "attachments": {},
   "cell_type": "markdown",
   "id": "1ab54c0d",
   "metadata": {},
   "source": [
    "ANSWER 5."
   ]
  },
  {
   "cell_type": "code",
   "execution_count": 10,
   "id": "f01fc382-0e74-45bb-8f20-6f6247dc5c67",
   "metadata": {},
   "outputs": [
    {
     "name": "stdout",
     "output_type": "stream",
     "text": [
      "No. of vowels : 11\n"
     ]
    }
   ],
   "source": [
    "def vowel_count(str):\n",
    "    count = 0\n",
    "    vowel = set(\"aeiouAEIOU\")\n",
    "    for alphabet in str:\n",
    "        if alphabet in vowel:\n",
    "            count +=1\n",
    "    print(\"No. of vowels :\", count)\n",
    "str = \"i want to bcome a data scientist\"\n",
    "vowel_count(str)"
   ]
  }
 ],
 "metadata": {
  "kernelspec": {
   "display_name": "Python 3",
   "language": "python",
   "name": "python3"
  },
  "language_info": {
   "codemirror_mode": {
    "name": "ipython",
    "version": 3
   },
   "file_extension": ".py",
   "mimetype": "text/x-python",
   "name": "python",
   "nbconvert_exporter": "python",
   "pygments_lexer": "ipython3",
   "version": "3.10.4"
  },
  "vscode": {
   "interpreter": {
    "hash": "be4ba2eea7440f0872637eafd588a6df8252e11914db5e4bfba0297ba1a11246"
   }
  }
 },
 "nbformat": 4,
 "nbformat_minor": 5
}
