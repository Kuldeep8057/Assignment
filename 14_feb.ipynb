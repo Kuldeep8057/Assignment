{
 "cells": [
  {
   "attachments": {},
   "cell_type": "markdown",
   "id": "7d454b26",
   "metadata": {},
   "source": [
    "Answer 1\n"
   ]
  },
  {
   "cell_type": "code",
   "execution_count": null,
   "id": "5386d7e2-77ed-417a-8039-2033c6cdd2ad",
   "metadata": {},
   "outputs": [],
   "source": [
    "'''Multithreading refers to concurrently executing multiple threads by rapidly switching the control of the CPU between threads (called context switching). \n",
    "The Python Global Interpreter Lock limits one thread to run at a time even if the machine contains multiple processors.​'''\n",
    "\n",
    "#USE\n",
    "'''Multithreading allows the programmer to divide application tasks into sub-tasks and simultaneously run them in a program.\n",
    "It allows threads to communicate and share resources such as files, data, and memory to the same processor'''\n",
    "\n",
    "'''Threading Modules. The threading module is a high-level implementation of multithreading used to deploy an application in Python. \n",
    "To use multithreading, we need to import the threading module in Python Program.'''"
   ]
  },
  {
   "attachments": {},
   "cell_type": "markdown",
   "id": "c3f1daf8",
   "metadata": {},
   "source": [
    "Answer 2"
   ]
  },
  {
   "cell_type": "code",
   "execution_count": 3,
   "id": "84f86a31",
   "metadata": {},
   "outputs": [
    {
     "name": "stdout",
     "output_type": "stream",
     "text": [
      "START: Current active thread count:  6\n",
      "Thread-2: Number of active threads: 8\n",
      "Thread 2 Value: 200\n",
      "Thread-1: Number of active threads: 8\n",
      "Thread 1 Value: 100\n",
      "Thread-3: Number of active threads: 7\n",
      "Thread 3 Value: 300\n"
     ]
    }
   ],
   "source": [
    "'''Python threading allows you to have different parts of your program run concurrently and can simplify your design.\n",
    "If you've got some experience in Python and want to speed up your program using threads, then this tutorial is for you!'''\n",
    "\n",
    "# Program to count active threads\n",
    "# active_count() method from Threading Module\n",
    "import threading\n",
    "import time\n",
    "# Methods for three threads..\n",
    "def thread1(i):\n",
    "    time.sleep(2)\n",
    "    print(\"Thread-1: Number of active threads:\", threading.active_count())\n",
    "    print('Thread 1 Value:', i)\n",
    "\n",
    "def thread2(i):\n",
    "    print(\"Thread-2: Number of active threads:\", threading.active_count())\n",
    "    print('Thread 2 Value:', i)\n",
    "    \n",
    "def thread3(i):\n",
    "    time.sleep(5)\n",
    "    print(\"Thread-3: Number of active threads:\", threading.active_count())\n",
    "    print(\"Thread 3 Value:\", i)\n",
    "    \n",
    "# Creating sample threads\n",
    "thread1 = threading.Thread(target=thread1, args=(100,), name=\"Thread1\")\n",
    "thread2 = threading.Thread(target=thread2, args=(200,), name=\"Thread2\")\n",
    "thread3 = threading.Thread(target=thread3, args=(300,), name=\"Thread3\")\n",
    "print(\"START: Current active thread count: \", threading.active_count())\n",
    "# Calling start() method to initialize execution\n",
    "thread1.start()\n",
    "thread2.start()\n",
    "thread3.start()\n",
    "thread3.join() # Wait for thread-3 to join."
   ]
  },
  {
   "cell_type": "code",
   "execution_count": 2,
   "id": "1176524c",
   "metadata": {},
   "outputs": [
    {
     "name": "stdout",
     "output_type": "stream",
     "text": [
      "Active current thread right now: <_MainThread(MainThread, started 26680)>\n",
      "Active current thread right now: <Thread(Thread-5 (thread_3), started 12580)>\n",
      "Value by Thread 3: 3\n"
     ]
    },
    {
     "name": "stdout",
     "output_type": "stream",
     "text": [
      "Active current thread right now: <Thread(Thread-3 (thread_1), started 24440)>\n",
      "Value by Thread 1: 1\n",
      "Active current thread right now: <Thread(Thread-4 (thread_2), started 11712)>\n",
      "Value by Thread 2: 2\n"
     ]
    }
   ],
   "source": [
    "# Python program to explain the use of \n",
    "# current_thread() method in Threading Module\n",
    "\n",
    "import time\n",
    "import threading\n",
    "\n",
    "def thread_1(i):\n",
    "    time.sleep(2)\n",
    "    print(\"Active current thread right now:\", (threading.current_thread()))\n",
    "    print('Value by Thread 1:', i)\n",
    "\n",
    "def thread_2(i):\n",
    "    time.sleep(5)\n",
    "    print(\"Active current thread right now:\", (threading.current_thread()))\n",
    "    print('Value by Thread 2:', i)\n",
    "    \n",
    "def thread_3(i):\n",
    "    print(\"Active current thread right now:\", (threading.current_thread()))\n",
    "    print(\"Value by Thread 3:\", i)\n",
    "    \n",
    "# Creating sample threads \n",
    "thread1 = threading.Thread(target=thread_1, args=(1,))\n",
    "thread2 = threading.Thread(target=thread_2, args=(2,))\n",
    "thread3 = threading.Thread(target=thread_3, args=(3,))\n",
    "\n",
    "print(\"Active current thread right now:\", (threading.current_thread()))\n",
    "#3 Initially it is the main thread that is active\n",
    "\n",
    "thread1.start()\n",
    "thread2.start()\n",
    "thread3.start()"
   ]
  },
  {
   "cell_type": "code",
   "execution_count": 4,
   "id": "7909eb23",
   "metadata": {},
   "outputs": [
    {
     "name": "stdout",
     "output_type": "stream",
     "text": [
      "(0, 'eat')\n",
      "(1, 'sleep')\n",
      "(2, 'repeat')\n",
      "100 eat\n",
      "101 sleep\n",
      "102 repeat\n",
      "0\n",
      "eat\n",
      "1\n",
      "sleep\n",
      "2\n",
      "repeat\n"
     ]
    }
   ],
   "source": [
    "l1 = [\"eat\", \"sleep\", \"repeat\"]\n",
    "\n",
    "# printing the tuples in object directly\n",
    "for ele in enumerate(l1):\n",
    "    print (ele)\n",
    "\n",
    "# changing index and printing separately\n",
    "for count, ele in enumerate(l1, 100):\n",
    "    print (count, ele)\n",
    "\n",
    "# getting desired output from tuple\n",
    "for count, ele in enumerate(l1):\n",
    "    print(count)\n",
    "    print(ele)"
   ]
  },
  {
   "attachments": {},
   "cell_type": "markdown",
   "id": "33d1e793",
   "metadata": {},
   "source": [
    "Answer 3"
   ]
  },
  {
   "cell_type": "code",
   "execution_count": null,
   "id": "e74a60c1",
   "metadata": {},
   "outputs": [],
   "source": [
    "'''run() − The run() method is the entry point for a thread. start() \n",
    "The start() method starts a thread by calling the run method. \n",
    "join([time]) − The join() waits for threads to terminate. isAlive() −\n",
    "The isAlive() method checks whether a thread is still executing.'''\n",
    "\n"
   ]
  },
  {
   "attachments": {},
   "cell_type": "markdown",
   "id": "ce571c7b",
   "metadata": {},
   "source": [
    "Answer 4"
   ]
  },
  {
   "cell_type": "code",
   "execution_count": 6,
   "id": "3977a3ac",
   "metadata": {},
   "outputs": [
    {
     "name": "stdout",
     "output_type": "stream",
     "text": [
      "Square: 100\n",
      "Cube: 1000\n"
     ]
    }
   ],
   "source": [
    "import threading\n",
    "\n",
    "def print_square(num):\n",
    "    # function to print square of given num\n",
    "    print(\"Square: {}\" .format(num * num))\n",
    "\n",
    "def print_cube(num):\n",
    "    # function to print cube of given num\n",
    "    print(\"Cube: {}\" .format(num * num * num))\n",
    "\n",
    "if __name__ ==\"__main__\":\n",
    "    # creating thread\n",
    "    t1 = threading.Thread(target=print_square, args=(10,))\n",
    "    t2 = threading.Thread(target=print_cube, args=(10,))\n",
    "\n",
    "    # starting thread 1\n",
    "    t1.start()\n",
    "    # starting thread 2\n",
    "    t2.start()"
   ]
  },
  {
   "attachments": {},
   "cell_type": "markdown",
   "id": "6f668d96",
   "metadata": {},
   "source": [
    "Answer 5"
   ]
  },
  {
   "cell_type": "code",
   "execution_count": null,
   "id": "84be51f2",
   "metadata": {},
   "outputs": [],
   "source": [
    "''' Advantages:\n",
    "1. The operations can be completely interrupting driven.\n",
    "2. The processor utilization is inferior through multithreading. Thus the power consumption is decreased to a great extend.\n",
    "3. Multithreading is helpful in applications that must processes very large amount of data.\n",
    "\n",
    "Disadvantages:\n",
    "\n",
    "1. Since the threads are sharing the similar address area and \n",
    "can access the resources like open files problems can take place if different threads use different data structures.\n",
    "2. If a parent process has multiple threads for suitable process functioning\n",
    "the child processes also should be multithreaded since all of them may be essential.'''"
   ]
  },
  {
   "attachments": {},
   "cell_type": "markdown",
   "id": "78e76790",
   "metadata": {},
   "source": [
    "Answer 6"
   ]
  },
  {
   "cell_type": "code",
   "execution_count": null,
   "id": "401b5958",
   "metadata": {},
   "outputs": [],
   "source": [
    "'''A race condition occurs when two threads use the same variable at a given time.\n",
    "\n",
    "Deadlock exists when two threads seek one lock simultaneously. This situation will stop both threads from processing or executing the functions.'''"
   ]
  }
 ],
 "metadata": {
  "kernelspec": {
   "display_name": "Python 3 (ipykernel)",
   "language": "python",
   "name": "python3"
  },
  "language_info": {
   "codemirror_mode": {
    "name": "ipython",
    "version": 3
   },
   "file_extension": ".py",
   "mimetype": "text/x-python",
   "name": "python",
   "nbconvert_exporter": "python",
   "pygments_lexer": "ipython3",
   "version": "3.10.4"
  }
 },
 "nbformat": 4,
 "nbformat_minor": 5
}
