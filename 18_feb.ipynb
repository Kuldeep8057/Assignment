{
 "cells": [
  {
   "attachments": {},
   "cell_type": "markdown",
   "id": "b747d8a2",
   "metadata": {},
   "source": [
    "Q1. What is an API? Give an example, where an API is used in real life.\n"
   ]
  },
  {
   "cell_type": "code",
   "execution_count": null,
   "metadata": {},
   "outputs": [],
   "source": [
    "'''An application programming interface (API) is the medium by which different software interact. \n",
    "They foster connections between technologies to enhance user experience.\n",
    "For someone who is not tech-savvy, think of an API as a waiter for the software world.'''"
   ]
  },
  {
   "attachments": {},
   "cell_type": "markdown",
   "id": "d3d7aa00",
   "metadata": {},
   "source": [
    "Q2. Give advantages and disadvantages of using API. \n",
    "\n"
   ]
  },
  {
   "cell_type": "code",
   "execution_count": null,
   "id": "539b9343",
   "metadata": {},
   "outputs": [],
   "source": [
    "#Advatage\n",
    "Applications:''' Access to APIs ensures more flexibility in information-transfer processes.'''\n",
    "Reach: '''APIs let you create layers in apps in order to distribute information to different audiences.'''\n",
    "Customization:''' Furthermore, it can serve as a solution to create different experiences for users, letting protocols, functions, and commands be adapted according to specific demands.'''\n",
    "Efficiency: '''When you have content that is automatically published and made available on different channels simultaneously, APIs allow for more efficient data distribution.'''\n",
    "Adaptability: '''One of the greatest benefits of APIs is the ability it has to adapt to changes through data migration and flexibility of services.'''\n",
    "\n",
    "\n",
    "#Disadvantage   \n",
    "    ''''There is a lot of conveniences and advantages to APIs, but business leaders should also be aware of the disadvantages. \n",
    "    #As a single point of entry,an API is a gateway and can become a hacker's primary target. \n",
    "    Once the API is compromised, all other applications and systems become vulnerable.'''"
   ]
  },
  {
   "attachments": {},
   "cell_type": "markdown",
   "id": "d1290e1d",
   "metadata": {},
   "source": [
    " Q3. what is a web api? differentiate between api and web api."
   ]
  },
  {
   "cell_type": "code",
   "execution_count": null,
   "id": "09c0dd50",
   "metadata": {},
   "outputs": [],
   "source": [
    "#Web API is back-end application (server side) where actual functionality to call service/database call is happening to store and retrieve the data. \n",
    "#Web Application is front end application (client side)which is calling web API to present the data retrieved from back-end.\n",
    "\n",
    "\n",
    "#Api:-\n",
    "    '''Web services are a type of API, which must be accessed through a network connection.\n",
    "    Web service is used for REST, SOAP and XML-RPC for communication.\n",
    "    All Web services are APIs.\n",
    "    It doesn’t have lightweight design, needs a SOAP convention to send or receive data over the system.\n",
    "    It provides supports only for the HTTP protocol.'''\n",
    "\n",
    "\n",
    "#Web Api:-\n",
    "    '''APIs are application interfaces, implying that one application can communicate with another application in a standardized manner.\n",
    "    API is used for any style of communication.\n",
    "    APIs are not web services.\n",
    "    It has a light-weight architecture furthermore, useful for gadgets which have constrained transmission capacity like smart phones.\n",
    "    It provides support for the HTTP/s protocol: URL Request/Response Headers, and so on.'''\n"
   ]
  },
  {
   "attachments": {},
   "cell_type": "markdown",
   "id": "84d5ad47",
   "metadata": {},
   "source": [
    "ANS.4 Explain REST and SOAP Architecture. Mention shortcomings of SOAP"
   ]
  },
  {
   "cell_type": "code",
   "execution_count": null,
   "id": "6bf05253",
   "metadata": {},
   "outputs": [],
   "source": [
    "#REST:-\n",
    "    '''REST stands for REpresentational State Transfer. \n",
    "    It is an architectural style that provides standards between computer systems on a web service. \n",
    "    It is a set of constraints used to create a lightweight, scalable, and maintainable web service that facilitates easy communication. \n",
    "    It is a set of constraints used to create a lightweight, scalable and maintainable web service that makes easy communication with each other. \n",
    "    All web services are based on the REST; hence it is called a RESTful service. \n",
    "    The purpose of developing a RESTful web service is to make the web service more effective. \n",
    "    The Roy Fielding develops it in 2000, who also developed the HTTP protocol. It does not depend on a specific protocol to use, but it's used HTTP/HTTPS.'''\n",
    "\n",
    "\n",
    "#SOAP:-\n",
    "    '''SOAP stands for Simple Object Access Protocol is a network platform used in a web service to exchange or communicate data between two different machines on a network. \n",
    "    It uses the XML format of data to transfer messages over the HTTP protocol. In Web services,\n",
    "    SOAP allows the user request to interact with other programming languages. In this way, it provides a way to communicate between applications running on different platforms (Operating system),\n",
    "    with programming languages and technologies used in web service.'''\n",
    "\n",
    "\n",
    "#Shortcoming of SOAP\n",
    "    '''SOAP is used only XML format data in web service, whereas JSON and other lightweight formats are not supported by it.\n",
    "It is slow because it uses XML format, whereas the payload for a simple string message is large.\n",
    "There are no security features in the SOAP specification.\n",
    "There is no state reference for the remote object in the SOAP client.'''\n"
   ]
  },
  {
   "attachments": {},
   "cell_type": "markdown",
   "id": "ccbf527a",
   "metadata": {},
   "source": [
    "ANS.5 Differentiate between REST and SOAP"
   ]
  },
  {
   "cell_type": "code",
   "execution_count": null,
   "id": "e565e534",
   "metadata": {},
   "outputs": [],
   "source": [
    "\n",
    "#REST:-\n",
    "    '''Relies on REST (Representational State Transfer) architecture using HTTP.\n",
    "\tGenerally transports data in JSON. It is based on URI. Because REST follows stateless model, REST does not enforces message format as XML or JSON etc.\n",
    "\tIt works with GET, POST, PUT, DELETE\n",
    "\tWorks over HTTP and HTTPS\n",
    "\tLess structured -> less bulky data\n",
    "\tDesigned with mobile devices in mind'''\n",
    "\n",
    "\n",
    "\n",
    "\n",
    "#SOAP:-\n",
    "    '''Relies on SOAP (Simple Object Access Protocol)\t\n",
    "    Transports data in standard XML format.\n",
    "    Because it is XML based and relies on SOAP, it works with WSDL\t\n",
    "    Works over HTTP, HTTPS, SMTP, XMPP\t\n",
    "    Highly structured/typed\t\n",
    "    Designed with large enterprise applications in mind.'''\n"
   ]
  }
 ],
 "metadata": {
  "language_info": {
   "name": "python"
  }
 },
 "nbformat": 4,
 "nbformat_minor": 5
}
