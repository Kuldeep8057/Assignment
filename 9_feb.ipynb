{
 "cells": [
  {
   "attachments": {},
   "cell_type": "markdown",
   "id": "9e5e80d9",
   "metadata": {},
   "source": [
    "Answer 1."
   ]
  },
  {
   "cell_type": "code",
   "execution_count": 9,
   "id": "796a46fb",
   "metadata": {},
   "outputs": [
    {
     "name": "stdout",
     "output_type": "stream",
     "text": [
      "name_of_vehicle: toyata, max_speed: 220, average_of_vehicle: 120\n"
     ]
    }
   ],
   "source": [
    "class vehicle:\n",
    "    def __init__(self,name_of_vehicle,max_speed,average_of_vehicle):\n",
    "        self.name_of_vehicle = name_of_vehicle\n",
    "        self.max_speed = max_speed\n",
    "        self.average_of_vehicle = average_of_vehicle\n",
    "        print(\"name_of_vehicle: {}, max_speed: {}, average_of_vehicle: {}\".format(self.name_of_vehicle, self.max_speed, self.average_of_vehicle))\n",
    "detail=vehicle('toyata',220,120)      "
   ]
  },
  {
   "attachments": {},
   "cell_type": "markdown",
   "id": "73a40568",
   "metadata": {},
   "source": [
    "Answer 2."
   ]
  },
  {
   "cell_type": "code",
   "execution_count": 10,
   "id": "a6542dcc",
   "metadata": {},
   "outputs": [
    {
     "name": "stdout",
     "output_type": "stream",
     "text": [
      "name_of_vehicle: toyata, max_speed: 220, average_of_vehicle: 120\n",
      "Name_of_vehicle: toyata, seating_capacity:7\n"
     ]
    }
   ],
   "source": [
    "class parent_vehicle:\n",
    "    def __init__(self,name_of_vehicle,max_speed,average_of_vehicle):\n",
    "        self.name_of_vehicle = name_of_vehicle\n",
    "        self.max_speed = max_speed\n",
    "        self.average_of_vehicle = average_of_vehicle\n",
    "        print(\"name_of_vehicle: {}, max_speed: {}, average_of_vehicle: {}\".format(self.name_of_vehicle, self.max_speed, self.average_of_vehicle))\n",
    "detail1=parent_vehicle('toyata',220,120) \n",
    "class child(parent_vehicle):\n",
    "    def __init__(self,name_of_vehicle,seating_capacity):\n",
    "        self.name_of_vehicle = name_of_vehicle\n",
    "        self.seating_capacity = seating_capacity\n",
    "        print(\"Name_of_vehicle: {}, seating_capacity:{}\".format(self.name_of_vehicle,self.seating_capacity))\n",
    "detail2=child('toyata',7)      "
   ]
  },
  {
   "attachments": {},
   "cell_type": "markdown",
   "id": "8f70aad0",
   "metadata": {},
   "source": [
    "Answer 3."
   ]
  },
  {
   "cell_type": "code",
   "execution_count": 3,
   "id": "b98b521d",
   "metadata": {},
   "outputs": [
    {
     "name": "stdout",
     "output_type": "stream",
     "text": [
      "Name: Jake, Pay: 250000, Exp: 5\n"
     ]
    }
   ],
   "source": [
    "#Demonstrate Multiple inheritance\n",
    "'''When a class is derived from more than one base class it is called multiple Inheritance.\n",
    "The derived class inherits all the features of the base case.'''\n",
    "# Parent class 1\n",
    "class TeamMember(object):                   \n",
    "    def __init__(self, name, uid): \n",
    "        self.name = name \n",
    "        self.uid = uid \n",
    "\n",
    "# Parent class 2\n",
    "class Worker(object):                 \n",
    "    def __init__(self, pay, jobtitle): \n",
    "        self.pay = pay \n",
    "        self.jobtitle = jobtitle \n",
    "\n",
    "# Deriving a child class from the two parent classes\n",
    "class TeamLeader(TeamMember, Worker):         \n",
    "    def __init__(self, name, uid, pay, jobtitle, exp): \n",
    "        self.exp = exp \n",
    "        TeamMember.__init__(self, name, uid) \n",
    "        Worker.__init__(self, pay, jobtitle)\n",
    "        print(\"Name: {}, Pay: {}, Exp: {}\".format(self.name, self.pay, self.exp))\n",
    "TL = TeamLeader('Jake', 10001, 250000, 'Scrum Master', 5)    "
   ]
  },
  {
   "attachments": {},
   "cell_type": "markdown",
   "id": "ccdf3356",
   "metadata": {},
   "source": [
    "Answer 4.\n"
   ]
  },
  {
   "cell_type": "code",
   "execution_count": 1,
   "id": "5386d7e2-77ed-417a-8039-2033c6cdd2ad",
   "metadata": {},
   "outputs": [
    {
     "name": "stdout",
     "output_type": "stream",
     "text": [
      "21\n",
      "21\n"
     ]
    }
   ],
   "source": [
    "'''In Python, getters and setters are not the same as those in other object-oriented programming languages.\n",
    "We use getters & setters to add validation logic around getting and setting a value.\n",
    "To avoid direct access of a class field i.e. private variables cannot be accessed directly or modified by external user.'''\n",
    "class rohan:\n",
    "    def __init__(self, age = 0):\n",
    "        self._age = age\n",
    "\n",
    "    # getter method\n",
    "    def get_age(self):\n",
    "        return self._age\n",
    "\n",
    "    # setter method\n",
    "    def set_age(self, x):\n",
    "        self._age = x\n",
    "raj = rohan()\n",
    "\n",
    "# setting the age using setter than value update\n",
    "raj.set_age(21)\n",
    "\n",
    "# retrieving age using getter than value is set\n",
    "print(raj.get_age())\n",
    "\n",
    "print(raj._age)"
   ]
  },
  {
   "attachments": {},
   "cell_type": "markdown",
   "id": "91d41b83",
   "metadata": {},
   "source": [
    "Answer 5.\n"
   ]
  },
  {
   "cell_type": "code",
   "execution_count": 7,
   "id": "ddd79fe7",
   "metadata": {},
   "outputs": [
    {
     "name": "stdout",
     "output_type": "stream",
     "text": [
      "Inside Parent\n",
      "Inside Child\n"
     ]
    }
   ],
   "source": [
    "'''Method overriding is an ability of any object-oriented programming language that allows a subclass or \n",
    "child class to provide a specific implementation of a method that is already provided by one of its super-classes or parent classes.\n",
    "When a method in a subclass has the same name,same parameters or signature and same return type(or sub-type) as a method in its super-class, \n",
    "then the method in the subclass is said to override the method in the super-class.'''\n",
    "#Example\n",
    "\n",
    "# Defining parent class\n",
    "class Parent():\n",
    "\t\n",
    "\tdef __init__(self):\n",
    "\t\tself.value = \"Inside Parent\"\n",
    "\t\t\n",
    "\t# Parent's show method\n",
    "\tdef show(self):\n",
    "\t\tprint(self.value)\n",
    "\t\t\n",
    "# Defining child class\n",
    "class Child(Parent):\n",
    "\t\n",
    "\tdef __init__(self):\n",
    "\t\tself.value = \"Inside Child\"\n",
    "\t\t\n",
    "\t# Child's show method\n",
    "\tdef show(self):\n",
    "\t\tprint(self.value)\n",
    "\t\t\n",
    "\t\t\n",
    "# Driver's code\n",
    "obj1 = Parent()\n",
    "obj2 = Child()\n",
    "\n",
    "obj1.show()\n",
    "obj2.show()\n",
    "\n",
    "\n"
   ]
  }
 ],
 "metadata": {
  "kernelspec": {
   "display_name": "Python 3 (ipykernel)",
   "language": "python",
   "name": "python3"
  },
  "language_info": {
   "codemirror_mode": {
    "name": "ipython",
    "version": 3
   },
   "file_extension": ".py",
   "mimetype": "text/x-python",
   "name": "python",
   "nbconvert_exporter": "python",
   "pygments_lexer": "ipython3",
   "version": "3.10.4"
  }
 },
 "nbformat": 4,
 "nbformat_minor": 5
}
