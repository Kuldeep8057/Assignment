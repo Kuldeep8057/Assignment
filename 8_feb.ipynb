{
 "cells": [
  {
   "attachments": {},
   "cell_type": "markdown",
   "id": "ec72db6a",
   "metadata": {},
   "source": [
    "Answer 1"
   ]
  },
  {
   "cell_type": "code",
   "execution_count": null,
   "id": "5386d7e2-77ed-417a-8039-2033c6cdd2ad",
   "metadata": {},
   "outputs": [],
   "source": [
    "'''In simple terms, abstraction “displays” only the relevant attributes of objects and “hides” the unnecessary details'''\n",
    "'''Example:- when using a cell phone, you can figure out how to answer incoming calls and respond to text messages. Thanks to data abstraction, \n",
    "                you can't tell how the phone itself transmits signals. \n",
    "                The purpose of data abstraction is to expose only the essential elements of a device'''"
   ]
  },
  {
   "attachments": {},
   "cell_type": "markdown",
   "id": "69d8724c",
   "metadata": {},
   "source": [
    "Answer 2"
   ]
  },
  {
   "cell_type": "code",
   "execution_count": 5,
   "id": "917dab71",
   "metadata": {},
   "outputs": [
    {
     "name": "stdout",
     "output_type": "stream",
     "text": [
      "Jack Matte\n",
      "Bakers street, London HUAPK29971 01-777-523-342\n",
      "Chinese Python Programming A+\n"
     ]
    }
   ],
   "source": [
    "#Abstraction:-\n",
    "''' 1. Abstraction is the process or method of gaining the information.\n",
    "    2. Abstraction is the method of hiding the unwanted information.\n",
    "    3.Abstraction focus is on “what” should be done.'''\n",
    "\n",
    "#Encapsulation:-\n",
    "''' 1. While encapsulation is the process or method to contain the information.\n",
    "    2.encapsulation is a method to hide the data in a single entity or unit along with a method to protect information from outside.\n",
    "    3.Encapsulation focus is on “How” it should be done.'''   \n",
    "\n",
    "#Example\n",
    "class Person:\n",
    "    def __init__(self):\n",
    "        self.name = \"Jack Matte\"\n",
    "\n",
    "    def bio(self):\n",
    "        self.addr = \"Bakers street, London\"\n",
    "        self.taxInfo = \"HUAPK29971\"\n",
    "        self.contact = \"01-777-523-342\"\n",
    "        print(self.addr, self.taxInfo, self.contact)\n",
    "\n",
    "    def interest(self):\n",
    "        self.favFood = \"Chinese\"\n",
    "        self.hobbies = \"Python Programming\"\n",
    "        self.bloodGroup = \"A+\"\n",
    "        print(self.favFood, self.hobbies, self.bloodGroup)\n",
    "\n",
    "obj = Person()\n",
    "print(obj.name)\n",
    "obj.bio()\n",
    "obj.interest()"
   ]
  },
  {
   "attachments": {},
   "cell_type": "markdown",
   "id": "0abb4cad",
   "metadata": {},
   "source": [
    "Answer 3"
   ]
  },
  {
   "cell_type": "code",
   "execution_count": null,
   "id": "f737a2c9",
   "metadata": {},
   "outputs": [],
   "source": [
    "'''The 'abc' module in Python library provides the infrastructure for defining custom abstract base classes.\n",
    "    'abc' works by marking methods of the base class as abstract. This is done by @absttractmethod decorator'''\n",
    "'''USED:- This module provides the infrastructure for defining abstract base classes (ABCs) in Python so it used abc modual.'''"
   ]
  },
  {
   "attachments": {},
   "cell_type": "markdown",
   "id": "26d513fa",
   "metadata": {},
   "source": [
    "Answer 4"
   ]
  },
  {
   "cell_type": "code",
   "execution_count": null,
   "id": "3612f1c7",
   "metadata": {},
   "outputs": [],
   "source": [
    "'''In Python, abstraction can be achieved by using abstract classes and interfaces. A class that consists of one or more abstract method is called the abstract class.\n",
    "Abstract methods do not contain their implementation'''"
   ]
  },
  {
   "attachments": {},
   "cell_type": "markdown",
   "id": "3da9aec1",
   "metadata": {},
   "source": [
    "Answer 5"
   ]
  },
  {
   "cell_type": "code",
   "execution_count": 3,
   "id": "cbab28a5",
   "metadata": {},
   "outputs": [
    {
     "name": "stdout",
     "output_type": "stream",
     "text": [
      "Triangle have 3 sides\n",
      "Quadrilateral have 4 sides\n",
      "Pentagon have 5 sides\n",
      "Hexagon have 6 sides\n"
     ]
    }
   ],
   "source": [
    "#By default, Python does not provide abstract classes. Python comes with a module that provides the base for defining Abstract Base classes(ABC) and that module name is ABC. ABC works by decorating methods of the base class as abstract and then registering concrete classes as implementations of the abstract base.\n",
    "#A method becomes abstract when decorated with the keyword @abstractmethod.'''\n",
    "from abc import ABC, abstractmethod\n",
    "class Polygon(ABC):\n",
    "    @abstractmethod\n",
    "    def noofsides(self):\n",
    "        pass\n",
    "class Triangle(Polygon):\n",
    "    def noofsides(self):\n",
    "        print(\"Triangle have 3 sides\")\n",
    "class Pentagon(Polygon):\n",
    "\n",
    "    def noofsides(self):\n",
    "        print(\"Pentagon have 5 sides\")\n",
    "\n",
    "class Hexagon(Polygon):\n",
    "\n",
    "    def noofsides(self):\n",
    "        print(\"Hexagon have 6 sides\")\n",
    "\n",
    "class Quadrilateral(Polygon):\n",
    "\n",
    "    def noofsides(self):\n",
    "        print(\"Quadrilateral have 4 sides\")\n",
    "R = Triangle()\n",
    "R.noofsides()\n",
    "\n",
    "K = Quadrilateral()\n",
    "K.noofsides()\n",
    "\n",
    "R = Pentagon()\n",
    "R.noofsides()\n",
    "\n",
    "K = Hexagon()\n",
    "K.noofsides()"
   ]
  }
 ],
 "metadata": {
  "kernelspec": {
   "display_name": "Python 3 (ipykernel)",
   "language": "python",
   "name": "python3"
  },
  "language_info": {
   "codemirror_mode": {
    "name": "ipython",
    "version": 3
   },
   "file_extension": ".py",
   "mimetype": "text/x-python",
   "name": "python",
   "nbconvert_exporter": "python",
   "pygments_lexer": "ipython3",
   "version": "3.10.4"
  }
 },
 "nbformat": 4,
 "nbformat_minor": 5
}
