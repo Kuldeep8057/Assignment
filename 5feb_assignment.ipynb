{
 "cells": [
  {
   "attachments": {},
   "cell_type": "markdown",
   "id": "9ab442ad",
   "metadata": {},
   "source": [
    "ANSWER 1."
   ]
  },
  {
   "cell_type": "code",
   "execution_count": null,
   "id": "ac14754f",
   "metadata": {},
   "outputs": [],
   "source": [
    "\"Object-oriented programming (OOP)\"# is a style of programming characterized by \n",
    "#the identification of classes of objects closely linked with the methods (functions) with which they are associated. \n",
    "#It also includes ideas of inheritance of attributes and methods\n",
    "\"Class\" # A class can be defined as a template/blueprint that describes the behavior/state that the object of its type support.\n",
    "\n",
    "\"Object\" #− Objects have states and behaviors. \n",
    "#Example: A dog has states - color, name, breed as well as behaviors – wagging the tail, barking, eating. An object is an instance of a class. \n"
   ]
  },
  {
   "attachments": {},
   "cell_type": "markdown",
   "id": "c82da239",
   "metadata": {},
   "source": [
    "ANSWER 2."
   ]
  },
  {
   "cell_type": "code",
   "execution_count": null,
   "id": "35640b50",
   "metadata": {},
   "outputs": [],
   "source": [
    "#These principles are called the four pillars of object-oriented programming (OOP). \n",
    "#These four pillars are Inheritance, Polymorphism, Encapsulation and Abstraction"
   ]
  },
  {
   "attachments": {},
   "cell_type": "markdown",
   "id": "95b3691c",
   "metadata": {},
   "source": [
    "ANSWER 3."
   ]
  },
  {
   "cell_type": "code",
   "execution_count": 1,
   "id": "a61f31c1",
   "metadata": {},
   "outputs": [
    {
     "name": "stdout",
     "output_type": "stream",
     "text": [
      "KULDEEP\n",
      "24\n"
     ]
    }
   ],
   "source": [
    "#The examples above are classes and objects in their simplest form, and are not really useful in real life applications. \n",
    "#To understand the meaning of classes we have to understand the built-in __init__() function.\n",
    "#All classes have a function called __init__(),\n",
    "#which is always executed when the class is being initiated\n",
    "class Person:\n",
    "    def __init__(self, name, age):\n",
    "        self.name = name\n",
    "        self.age = age\n",
    "\n",
    "p1 = Person(\"KULDEEP\", 24)\n",
    "\n",
    "print(p1.name)\n",
    "print(p1.age)"
   ]
  },
  {
   "attachments": {},
   "cell_type": "markdown",
   "id": "c851f444",
   "metadata": {},
   "source": [
    "ANSWER 4."
   ]
  },
  {
   "cell_type": "code",
   "execution_count": null,
   "id": "b636105d",
   "metadata": {},
   "outputs": [],
   "source": [
    "#The self variable is used to represent the instance of the class which is often used in object-oriented programming. It works as a reference to the object. \n",
    "#Python uses the self parameter to refer to instance attributes and methods of the clas"
   ]
  },
  {
   "attachments": {},
   "cell_type": "markdown",
   "id": "1cb0f33f",
   "metadata": {},
   "source": [
    "ANSWER 5."
   ]
  },
  {
   "cell_type": "code",
   "execution_count": 4,
   "id": "be529074-b41c-47dc-9571-dc99bb6f673e",
   "metadata": {},
   "outputs": [],
   "source": [
    "#Inheritance is a mechanism in which one class acquires the property of another class.\n",
    "#For example, a child inherits the traits of his/her parents.\n",
    "#With inheritance, we can reuse the fields and methods of the existing class.\n",
    "#Hence, inheritance facilitates Reusability and is an important concept of OOPs\n",
    "#heriting properties from various parent classes has access to all of their objects.\n"
   ]
  },
  {
   "attachments": {},
   "cell_type": "markdown",
   "id": "eabe7465",
   "metadata": {},
   "source": [
    "SINGAL INHERITANCE"
   ]
  },
  {
   "cell_type": "code",
   "execution_count": 5,
   "id": "01ca5946",
   "metadata": {},
   "outputs": [
    {
     "name": "stdout",
     "output_type": "stream",
     "text": [
      "This function is defined inside the parent class.\n",
      "This function is defined inside the child class.\n"
     ]
    }
   ],
   "source": [
    "class Parent1:  \n",
    "    def func_1(self):  \n",
    "        print (\"This function is defined inside the parent class.\")  \n",
    "\n",
    "class Child1(Parent1):  \n",
    "    def func_2(self):  \n",
    "        print (\"This function is defined inside the child class.\")  \n",
    "object = Child1()  \n",
    "object.func_1()  \n",
    "object.func_2()  "
   ]
  },
  {
   "attachments": {},
   "cell_type": "markdown",
   "id": "b284e549",
   "metadata": {},
   "source": [
    "Multiple Inheritance"
   ]
  },
  {
   "cell_type": "code",
   "execution_count": 7,
   "id": "260565ef",
   "metadata": {},
   "outputs": [
    {
     "name": "stdout",
     "output_type": "stream",
     "text": [
      "My Father name is : Mr.PRATAP\n",
      "My Mother name is : Mrs. PRACHI \n"
     ]
    }
   ],
   "source": [
    "class Mother1:  \n",
    "    mothername1 = \"\"  \n",
    "    def mother1(self):  \n",
    "        print(self.mothername1)  \n",
    "\n",
    "class Father1:  \n",
    "    fathername1 = \"\"  \n",
    "    def father1(self):  \n",
    "        print(self.fathername1)  \n",
    "\n",
    "class Son1(Mother1, Father1):  \n",
    "    def parents1(self):  \n",
    "        print (\"My Father name is :\", self.fathername1)  \n",
    "        print (\"My Mother name is :\", self.mothername1)  \n",
    "s1 = Son1()  \n",
    "s1.fathername1 = \"Mr.PRATAP\"  \n",
    "s1.mothername1 = \"Mrs. PRACHI \"  \n",
    "s1.parents1()  "
   ]
  },
  {
   "attachments": {},
   "cell_type": "markdown",
   "id": "ebbcd393",
   "metadata": {},
   "source": [
    "Multilevel inheritance"
   ]
  },
  {
   "cell_type": "code",
   "execution_count": 10,
   "id": "801d14ed",
   "metadata": {},
   "outputs": [
    {
     "name": "stdout",
     "output_type": "stream",
     "text": [
      "Mr.Roshan\n",
      "Grandfather name is : Mr.Roshan\n",
      "Father name is : Mr.Pratap\n",
      "Son name is : KULDEEP\n"
     ]
    }
   ],
   "source": [
    "class Grandfather1:  \n",
    "\n",
    "    def __init__(self, grandfathername1):  \n",
    "        self.grandfathername1 = grandfathername1  \n",
    "\n",
    "class Father1(Grandfather1):  \n",
    "    def __init__(self, fathername1, grandfathername1):  \n",
    "        self.fathername1 = fathername1  \n",
    "\n",
    "        Grandfather1.__init__(self, grandfathername1)  \n",
    "\n",
    "class Son1(Father1):  \n",
    "    def __init__(self,sonname1, fathername1, grandfathername1):  \n",
    "        self.sonname1 = sonname1  \n",
    "\n",
    "        Father1.__init__(self, fathername1, grandfathername1)  \n",
    "\n",
    "    def print_name(self):  \n",
    "        print('Grandfather name is :', self.grandfathername1)  \n",
    "        print(\"Father name is :\", self.fathername1)  \n",
    "        print(\"Son name is :\", self.sonname1)  \n",
    "\n",
    "s1 = Son1('KULDEEP', 'Mr.Pratap','Mr.Roshan')  \n",
    "print (s1.grandfathername1)  \n",
    "s1.print_name()  "
   ]
  },
  {
   "attachments": {},
   "cell_type": "markdown",
   "id": "1aeb64e1",
   "metadata": {},
   "source": [
    "Hierarchical Inheritance"
   ]
  },
  {
   "cell_type": "code",
   "execution_count": 11,
   "id": "f4d1afe6",
   "metadata": {},
   "outputs": [
    {
     "name": "stdout",
     "output_type": "stream",
     "text": [
      "This function is defined inside the parent class.\n",
      "This function is defined inside the child 1.\n",
      "This function is defined inside the parent class.\n",
      "This function is defined inside the child 2.\n"
     ]
    }
   ],
   "source": [
    "class Parent1:  \n",
    "    def func_1(self):  \n",
    "        print (\"This function is defined inside the parent class.\")  \n",
    "\n",
    "class Child_1(Parent1):  \n",
    "    def func_2(self):  \n",
    "        print (\"This function is defined inside the child 1.\")  \n",
    "\n",
    "class Child_2(Parent1):  \n",
    "    def func_3(self):  \n",
    "        print (\"This function is defined inside the child 2.\")  \n",
    "\n",
    "object1 = Child_1()  \n",
    "object2 = Child_2()  \n",
    "object1.func_1()  \n",
    "object1.func_2()  \n",
    "object2.func_1()  \n",
    "object2.func_3()  "
   ]
  }
 ],
 "metadata": {
  "kernelspec": {
   "display_name": "Python 3",
   "language": "python",
   "name": "python3"
  },
  "language_info": {
   "codemirror_mode": {
    "name": "ipython",
    "version": 3
   },
   "file_extension": ".py",
   "mimetype": "text/x-python",
   "name": "python",
   "nbconvert_exporter": "python",
   "pygments_lexer": "ipython3",
   "version": "3.10.4"
  },
  "vscode": {
   "interpreter": {
    "hash": "be4ba2eea7440f0872637eafd588a6df8252e11914db5e4bfba0297ba1a11246"
   }
  }
 },
 "nbformat": 4,
 "nbformat_minor": 5
}
