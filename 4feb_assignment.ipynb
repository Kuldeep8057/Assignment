{
 "cells": [
  {
   "attachments": {},
   "cell_type": "markdown",
   "id": "a0915866",
   "metadata": {},
   "source": [
    "ANSWER 1.\n"
   ]
  },
  {
   "cell_type": "code",
   "execution_count": 38,
   "id": "4c946367",
   "metadata": {},
   "outputs": [
    {
     "name": "stdout",
     "output_type": "stream",
     "text": [
      "initial list:  [('Sachin Tendulkar', 34357), ('Ricky Ponting', 27483), ('Jack Kallis', 25534), ('Virat Kohli', 24936)]\n",
      "result list:  [('Virat Kohli', 24936), ('Jack Kallis', 25534), ('Ricky Ponting', 27483), ('Sachin Tendulkar', 34357)]\n"
     ]
    }
   ],
   "source": [
    "cricketer_name=[('Sachin Tendulkar', 34357), ('Ricky Ponting', 27483), ('Jack Kallis', 25534), ('Virat Kohli', 24936)]\n",
    "print(\"initial list: \",cricketer_name)\n",
    "new1 = sorted(cricketer_name, key = lambda x : x[1])\n",
    "print(\"result list: \",new1)\n",
    "\n"
   ]
  },
  {
   "attachments": {},
   "cell_type": "markdown",
   "metadata": {},
   "source": [
    "ANSWER 2."
   ]
  },
  {
   "cell_type": "code",
   "execution_count": 39,
   "id": "1a771b32",
   "metadata": {},
   "outputs": [
    {
     "data": {
      "text/plain": [
       "[1, 4, 9, 16, 25, 36, 49, 64, 81, 100]"
      ]
     },
     "execution_count": 39,
     "metadata": {},
     "output_type": "execute_result"
    }
   ],
   "source": [
    "s=[1, 2, 3, 4, 5, 6, 7, 8, 9, 10]\n",
    "#LAMBDA FUCTION\n",
    "list(map(lambda x : x**2 , s))"
   ]
  },
  {
   "cell_type": "code",
   "execution_count": 6,
   "id": "208aed1e",
   "metadata": {},
   "outputs": [
    {
     "data": {
      "text/plain": [
       "[1, 4, 9, 16, 25, 36, 49, 64, 81, 100]"
      ]
     },
     "execution_count": 6,
     "metadata": {},
     "output_type": "execute_result"
    }
   ],
   "source": [
    "#map fuction\n",
    "def sq(x):\n",
    "    return x**2\n",
    "list(map(sq,s))    "
   ]
  },
  {
   "attachments": {},
   "cell_type": "markdown",
   "id": "9a839eed",
   "metadata": {},
   "source": [
    "ANSWER 3."
   ]
  },
  {
   "cell_type": "code",
   "execution_count": 17,
   "id": "6d085114",
   "metadata": {},
   "outputs": [
    {
     "name": "stdout",
     "output_type": "stream",
     "text": [
      "['1', '2', '3', '4', '5', '6', '7', '8', '9', '10']\n"
     ]
    }
   ],
   "source": [
    "k= [1,2,3,4,5,6,7,8,9,10]\n",
    "l_s=list(map(str,k))\n",
    "print(l_s)\n",
    "\n"
   ]
  },
  {
   "attachments": {},
   "cell_type": "markdown",
   "id": "1c15ca2c",
   "metadata": {},
   "source": [
    "ANSWER 4"
   ]
  },
  {
   "cell_type": "code",
   "execution_count": 25,
   "id": "74b18009",
   "metadata": {},
   "outputs": [
    {
     "name": "stdout",
     "output_type": "stream",
     "text": [
      "[1, 2, 3, 4, 5, 6, 7, 8, 9, 10, 11, 12, 13, 14, 15, 16, 17, 18, 19, 20, 21, 22, 23, 24, 25]\n"
     ]
    },
    {
     "data": {
      "text/plain": [
       "15511210043330985984000000"
      ]
     },
     "execution_count": 25,
     "metadata": {},
     "output_type": "execute_result"
    }
   ],
   "source": [
    "from functools import  reduce\n",
    "l=[]\n",
    "for i in range(1,26):\n",
    "    l.append(i)\n",
    "print(l)    \n",
    "    \n",
    "reduce(lambda x,y:x*y,l)   "
   ]
  },
  {
   "attachments": {},
   "cell_type": "markdown",
   "id": "9ab7d984",
   "metadata": {},
   "source": [
    "ANSWER 5"
   ]
  },
  {
   "cell_type": "code",
   "execution_count": 27,
   "id": "2be3b83f",
   "metadata": {},
   "outputs": [
    {
     "data": {
      "text/plain": [
       "[6, 60, 90, 120]"
      ]
     },
     "execution_count": 27,
     "metadata": {},
     "output_type": "execute_result"
    }
   ],
   "source": [
    "l=[2, 3, 6, 9, 27, 60, 90, 120, 55, 46]\n",
    "list(filter(lambda x:x%2==0 and x%3==0,l))"
   ]
  },
  {
   "attachments": {},
   "cell_type": "markdown",
   "id": "ec51653f",
   "metadata": {},
   "source": [
    "ANSWER 6"
   ]
  },
  {
   "cell_type": "code",
   "execution_count": 29,
   "id": "504b307e",
   "metadata": {},
   "outputs": [
    {
     "data": {
      "text/plain": [
       "['php', 'aba', 'radar', 'level']"
      ]
     },
     "execution_count": 29,
     "metadata": {},
     "output_type": "execute_result"
    }
   ],
   "source": [
    "l=['python', 'php', 'aba', 'radar', 'level']\n",
    "list(filter(lambda x:(x == \"\".join(reversed(x))),l))"
   ]
  }
 ],
 "metadata": {
  "kernelspec": {
   "display_name": "Python 3",
   "language": "python",
   "name": "python3"
  },
  "language_info": {
   "codemirror_mode": {
    "name": "ipython",
    "version": 3
   },
   "file_extension": ".py",
   "mimetype": "text/x-python",
   "name": "python",
   "nbconvert_exporter": "python",
   "pygments_lexer": "ipython3",
   "version": "3.10.4"
  },
  "vscode": {
   "interpreter": {
    "hash": "be4ba2eea7440f0872637eafd588a6df8252e11914db5e4bfba0297ba1a11246"
   }
  }
 },
 "nbformat": 4,
 "nbformat_minor": 5
}
