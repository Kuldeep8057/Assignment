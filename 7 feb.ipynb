{
 "cells": [
  {
   "attachments": {},
   "cell_type": "markdown",
   "id": "26da2f16",
   "metadata": {},
   "source": [
    "Answer 1."
   ]
  },
  {
   "cell_type": "code",
   "execution_count": 60,
   "id": "c55d03e5",
   "metadata": {},
   "outputs": [
    {
     "name": "stdout",
     "output_type": "stream",
     "text": [
      "Valid password\n"
     ]
    }
   ],
   "source": [
    "from sys import exit #The sys module in Python provides various functions and variables\n",
    "\n",
    "def check_upper(input):\n",
    "    uppers = 0 \n",
    "    upper_list = \"A B C D E F G H I J K L M N O P Q R S T U V W X Y Z\"\n",
    "    for char in input:\n",
    "        if char in upper_list:\n",
    "            uppers += 1\n",
    "    if uppers >=2:\n",
    "        return True\n",
    "    else:\n",
    "        return False\n",
    "\n",
    "def check_lower(input):\n",
    "    lowers = 0\n",
    "    lower_list = \"a b c d e f g h i j k l m n o p q r s t u v w x y z\"\n",
    "    for char in input:\n",
    "        if char in lower_list:\n",
    "            lowers += 1\n",
    "    if lowers >=2:\n",
    "        return True\n",
    "    else:\n",
    "        return False\n",
    "\n",
    "def check_number(input):\n",
    "    numbers = 0\n",
    "    number_list = \"1 2 3 4 5 6 7 8 9 0\"\n",
    "    for char in input:\n",
    "        if char in number_list:\n",
    "            numbers += 1\n",
    "    if numbers >=3:\n",
    "        return True\n",
    "    else:\n",
    "        return False\n",
    "\n",
    "def check_special(input):\n",
    "    specials = 0\n",
    "    special_list = \"! @ $ % ^ & * ( ) _ - + = { } [ ] | , . > < / ? ~ ` \\\" ' : ;\"\n",
    "    for char in input:\n",
    "        if char in special_list:\n",
    "            specials += 1\n",
    "    if specials >=3:\n",
    "        return True\n",
    "    else:\n",
    "        return False\n",
    "\n",
    "def check_len(input):\n",
    "    if len(input) >= 10:\n",
    "        return True\n",
    "    else:\n",
    "        return False\n",
    "\n",
    "\n",
    "def validate_password(input):\n",
    "    check_dict = {\n",
    "        'upper': check_upper(input),\n",
    "        'lower': check_lower(input),\n",
    "        'number': check_number(input),\n",
    "        'special': check_special(input),\n",
    "        'len' : check_len(input)\n",
    "    }\n",
    "    if check_upper(input) & check_lower(input) & check_number(input) & check_special(input) & check_len(input):\n",
    "        return True\n",
    "    else:\n",
    "        print (\"Invalid password! Review below and change your password accordingly!\")\n",
    "        \n",
    "        if check_dict['upper'] == False:\n",
    "            print (\"Password needs at least two upper-case character.\")\n",
    "        if check_dict['lower'] == False:\n",
    "            print (\"Password needs at least two lower-case character.\")\n",
    "        if check_dict['number'] == False:\n",
    "            print (\"Password needs at least three number.\")\n",
    "        if check_dict['special'] == False:\n",
    "            print (\"Password needs at least three special character.\")\n",
    "        if check_dict['len'] == False:\n",
    "            print (\"Password needs to be at least 10 characters in length.\" )\n",
    "\n",
    "        \n",
    "while True:\n",
    "    try:\n",
    "        passwords = input(\"Enter desired password: \")\n",
    "        if validate_password(passwords):\n",
    "            print(\"Valid password\")\n",
    "        break\n",
    "    except:\n",
    "        print(\"Invalid password\")\n",
    "    \n",
    "    "
   ]
  },
  {
   "attachments": {},
   "cell_type": "markdown",
   "id": "9c3f7eb1",
   "metadata": {},
   "source": [
    "Answer 2."
   ]
  },
  {
   "cell_type": "code",
   "execution_count": 38,
   "id": "c094b168",
   "metadata": {},
   "outputs": [],
   "source": [
    "import re\n",
    "word=input(\"enter the string\")\n",
    "\n",
    "# Check if string starts with a letter\n",
    "if re.search(\"^[a-zA-Z]\", word) is not None:\n",
    "    print(\"The String starts with a letter\")\n",
    "else:\n",
    "    print(\"The String do not starts with a letter\")\n"
   ]
  },
  {
   "cell_type": "code",
   "execution_count": 49,
   "id": "557bd598",
   "metadata": {},
   "outputs": [
    {
     "name": "stdout",
     "output_type": "stream",
     "text": [
      "The number do not starts with a digit\n"
     ]
    }
   ],
   "source": [
    "import re\n",
    "number=input(\"enter the number\")\n",
    "\n",
    "# Check if number starts with a letter\n",
    "if re.search(\"^[0-9]\", number) is not None:\n",
    "    print(\"The number starts with a digit\")\n",
    "else:\n",
    "    print(\"The number do not starts with a digit\")"
   ]
  },
  {
   "cell_type": "code",
   "execution_count": 57,
   "id": "9fa85f19",
   "metadata": {},
   "outputs": [
    {
     "name": "stdout",
     "output_type": "stream",
     "text": [
      "[('grapes', 1000), ('mango', 99), ('orange', 80)]\n"
     ]
    }
   ],
   "source": [
    "l=[(\"mango\",99),(\"orange\",80), (\"grapes\", 1000)]\n",
    "sorted_tuples = sorted(l)\n",
    "print(sorted_tuples)"
   ]
  },
  {
   "cell_type": "code",
   "execution_count": 40,
   "id": "25e071dc",
   "metadata": {},
   "outputs": [
    {
     "name": "stdout",
     "output_type": "stream",
     "text": [
      "[2, 4, 6, 8, 10, 12, 14, 16, 18, 20]\n"
     ]
    }
   ],
   "source": [
    "l=[1,2,3,4,5,6,7,8,9,10]\n",
    "square=list(map(lambda x:x*2,l))\n",
    "print(square)"
   ]
  },
  {
   "cell_type": "code",
   "execution_count": 43,
   "id": "41d7639a",
   "metadata": {},
   "outputs": [
    {
     "name": "stdout",
     "output_type": "stream",
     "text": [
      "[1.0, 1.2599210498948732, 1.4422495703074083, 1.5874010519681994, 1.7099759466766968, 1.8171205928321397, 1.912931182772389, 2.0, 2.080083823051904, 2.154434690031884]\n"
     ]
    }
   ],
   "source": [
    "l=[1,2,3,4,5,6,7,8,9,10]\n",
    "cube_root=list(map(lambda x:x**(1/3),l))\n",
    "print(cube_root)"
   ]
  },
  {
   "cell_type": "code",
   "execution_count": 44,
   "id": "dd8b4a13",
   "metadata": {},
   "outputs": [
    {
     "name": "stdout",
     "output_type": "stream",
     "text": [
      "Even Number\n"
     ]
    }
   ],
   "source": [
    "number = int(input(\"Enter a number \"))\n",
    "odd_even = lambda : \"Even Number\" if number % 2 == 0 else \"Odd Number\"\n",
    "print(odd_even())"
   ]
  },
  {
   "cell_type": "code",
   "execution_count": null,
   "id": "62dabbe7",
   "metadata": {},
   "outputs": [
    {
     "name": "stdout",
     "output_type": "stream",
     "text": [
      "[1, 3, 5, 7, 9]\n"
     ]
    }
   ],
   "source": [
    "l=[1,2,3,4,5,6,7,8,9,10]\n",
    "odd=list(filter(lambda x : x % 2 != 0 , l))\n",
    "print(odd)"
   ]
  },
  {
   "cell_type": "code",
   "execution_count": null,
   "id": "c1b31f0f",
   "metadata": {},
   "outputs": [
    {
     "name": "stdout",
     "output_type": "stream",
     "text": [
      "[1, 2, 3, 4, 5, 6]\n",
      "[-1, -2, -3, -4, -5]\n"
     ]
    }
   ],
   "source": [
    "l=[1,2,3,4,5,6,-1,-2,-3,-4,-5,0]\n",
    "number=(list(filter(lambda x : x>0,l)))\n",
    "print(number)\n",
    "number=(list(filter(lambda x : x<0,l)))\n",
    "print(number)"
   ]
  }
 ],
 "metadata": {
  "kernelspec": {
   "display_name": "Python 3 (ipykernel)",
   "language": "python",
   "name": "python3"
  },
  "language_info": {
   "codemirror_mode": {
    "name": "ipython",
    "version": 3
   },
   "file_extension": ".py",
   "mimetype": "text/x-python",
   "name": "python",
   "nbconvert_exporter": "python",
   "pygments_lexer": "ipython3",
   "version": "3.10.4"
  }
 },
 "nbformat": 4,
 "nbformat_minor": 5
}
