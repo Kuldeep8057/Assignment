{
 "cells": [
  {
   "cell_type": "code",
   "execution_count": 1,
   "id": "be40af06-a659-423c-81a9-6d7be9918e4e",
   "metadata": {},
   "outputs": [
    {
     "ename": "SyntaxError",
     "evalue": "invalid syntax (1917163131.py, line 1)",
     "output_type": "error",
     "traceback": [
      "\u001b[0;36m  Cell \u001b[0;32mIn [1], line 1\u001b[0;36m\u001b[0m\n\u001b[0;31m    Ans. Python Programming Language developed by Guido van Rossum in 1991.\u001b[0m\n\u001b[0m                ^\u001b[0m\n\u001b[0;31mSyntaxError\u001b[0m\u001b[0;31m:\u001b[0m invalid syntax\n"
     ]
    }
   ],
   "source": [
    "Ans 1. Python Programming Language developed by Guido van Rossum in 1991."
   ]
  },
  {
   "cell_type": "code",
   "execution_count": null,
   "id": "4d73613d-354a-411c-b98a-f86f15bdde02",
   "metadata": {},
   "outputs": [],
   "source": [
    "Ans 2.  Object-oriented programming and structured programming are fully supported, and many of their features support functional programming and aspect-oriented programming (including metaprogramming and metaobjects)\n",
    "        and python is case sensitive Language."
   ]
  },
  {
   "cell_type": "code",
   "execution_count": null,
   "id": "42d2a459-f6ec-4597-b817-f61ab77e7cf0",
   "metadata": {},
   "outputs": [],
   "source": [
    "Ans 3. Yes, python is dealing with identifiers.\n"
   ]
  },
  {
   "cell_type": "code",
   "execution_count": null,
   "id": "c3a961c8-c3aa-44e5-8d83-51bf56bf3e54",
   "metadata": {},
   "outputs": [],
   "source": [
    "Ans 4. Correct extension of the Python file is .py\n"
   ]
  },
  {
   "cell_type": "code",
   "execution_count": null,
   "id": "65895136-d94c-43a3-9cf3-decbfc3e7c56",
   "metadata": {},
   "outputs": [],
   "source": [
    "Ans 5. Python code is interpreted."
   ]
  },
  {
   "cell_type": "code",
   "execution_count": null,
   "id": "0ea3817e-d46a-43ce-90ac-a0fbb8ff4373",
   "metadata": {},
   "outputs": [],
   "source": [
    "Ans 6. The following are blocks: a module, a function body, and a class definition."
   ]
  },
  {
   "cell_type": "code",
   "execution_count": 3,
   "id": "09adead1-ed46-42ab-8c14-2bfef4970129",
   "metadata": {},
   "outputs": [
    {
     "name": "stdout",
     "output_type": "stream",
     "text": [
      "correct name\n",
      "HII\n"
     ]
    }
   ],
   "source": [
    "name=\"Kuldeep Gangwar\"\n",
    "if name == \"Kuldeep Gangwar\":\n",
    "    print(\"correct name\")\n",
    "else:\n",
    "    print(\"incorrect name\")\n",
    "print(\"HII\")\n",
    "    "
   ]
  },
  {
   "cell_type": "code",
   "execution_count": null,
   "id": "aaa6e685-4937-460e-9964-282703a38099",
   "metadata": {},
   "outputs": [],
   "source": [
    "Ans 7.\n",
    "# I am student of pwskills."
   ]
  },
  {
   "cell_type": "code",
   "execution_count": null,
   "id": "24321fc3-10a5-4f5f-a011-ee5e5184d4a3",
   "metadata": {},
   "outputs": [],
   "source": [
    "Ans 8. Yes"
   ]
  },
  {
   "cell_type": "code",
   "execution_count": null,
   "id": "4a1706ad-5c96-4a55-80f1-a9f797936769",
   "metadata": {},
   "outputs": [],
   "source": [
    "Ans 9. python supports the creation of anonymous functions at runtime , using a construct called \"Lambda\""
   ]
  },
  {
   "cell_type": "code",
   "execution_count": null,
   "id": "1d9ac9ab-ce2c-4b73-aa56-4494e8f3411c",
   "metadata": {},
   "outputs": [],
   "source": [
    "Ans 10. pip stand is \"preferred installer program\" for python"
   ]
  },
  {
   "cell_type": "code",
   "execution_count": null,
   "id": "f04ea9db-4e3b-444a-88fb-26daa7ccea33",
   "metadata": {},
   "outputs": [],
   "source": [
    "Ans 11.   \n",
    "        class C(object):\n",
    "\n",
    "        def f(arg1, arg2, ...):\n",
    "        ...\n"
   ]
  },
  {
   "cell_type": "code",
   "execution_count": null,
   "id": "2dbc2d4e-b50c-418b-944f-74657dba16af",
   "metadata": {},
   "outputs": [],
   "source": [
    "Ans 12. '79' is the maximum possible of an identifier in python"
   ]
  },
  {
   "cell_type": "code",
   "execution_count": null,
   "id": "2458e18b-8fdf-48d2-943f-6bf9e50456dd",
   "metadata": {},
   "outputs": [],
   "source": [
    "Ans 13. * Easy to Learn.\n",
    "        * Mature and Supportive Python Community.\n",
    "        * Support from Renowned Corporate Sponsors.\n",
    "        * Hundreds of Python Libraries and Frameworks.\n",
    "        * Versatility, Efficiency, Reliability, and Speed.\n",
    "        * Big data, Machine Learning and Cloud Computing.\n",
    "        * First-choice Language."
   ]
  },
  {
   "cell_type": "code",
   "execution_count": null,
   "id": "ff568f29-fb83-416a-9bc6-746a403ee8bb",
   "metadata": {},
   "outputs": [],
   "source": [
    "Ans 14. Memory management in Python involves a private heap containing all Python objects and data structures."
   ]
  },
  {
   "cell_type": "code",
   "execution_count": null,
   "id": "4eabb86b-f502-4185-9c84-b90327ae6207",
   "metadata": {},
   "outputs": [],
   "source": [
    "Ans 15. The complete path of python.exe can be added by:\n",
    "\n",
    "Right-clicking This PC and going to Properties.\n",
    "\n",
    "Clicking on the Advanced system settings in the menu on the left.\n",
    "\n",
    "Clicking on the Environment Variables button on the bottom right.\n",
    "\n",
    "In the System variables section, selecting the Path variable and clicking on Edit. The next screen will show all the directories that are currently a part of the PATH variable.\n",
    "\n",
    "Clicking on New and entering Python’s install directory.\n",
    "\n",
    "Python can now be used directly from the command prompt without having to write its location. Try executing the command python --version; it will output the version of Python installed on your system."
   ]
  },
  {
   "cell_type": "code",
   "execution_count": null,
   "id": "6b3427cd-70f1-4d00-b884-fc903e7744e2",
   "metadata": {},
   "outputs": [],
   "source": [
    "Ans 16. Indentation refers to the spaces at the beginning of a code line.\n",
    "        Where in other programming languages the indentation in code is for readability only, the indentation in Python is very important.\n",
    "        Python uses indentation to indicate a block of code."
   ]
  }
 ],
 "metadata": {
  "kernelspec": {
   "display_name": "Python 3 (ipykernel)",
   "language": "python",
   "name": "python3"
  },
  "language_info": {
   "codemirror_mode": {
    "name": "ipython",
    "version": 3
   },
   "file_extension": ".py",
   "mimetype": "text/x-python",
   "name": "python",
   "nbconvert_exporter": "python",
   "pygments_lexer": "ipython3",
   "version": "3.10.6"
  }
 },
 "nbformat": 4,
 "nbformat_minor": 5
}
